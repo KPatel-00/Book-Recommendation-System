{
 "cells": [
  {
   "cell_type": "markdown",
   "id": "8c428307",
   "metadata": {
    "papermill": {
     "duration": 0.01335,
     "end_time": "2024-09-10T11:09:37.046017",
     "exception": false,
     "start_time": "2024-09-10T11:09:37.032667",
     "status": "completed"
    },
    "tags": []
   },
   "source": [
    "# Book Recommendation System Using Collaborative Filtering\n",
    "\n",
    "# Introduction\n",
    "\n",
    "In this notebook, I developed a book recommendation system to recommend Top 50 Books based on popularity and also recommend books using collaborative filtering techniques. Goal is to analyze user rating data and suggest books that align with individual preferences, enhancing user experience on book platforms. This project involves data exploration, preprocessing, the implementation of various unsupervised machine learning models and finaly making a book recommendation function.\n"
   ]
  },
  {
   "cell_type": "markdown",
   "id": "31d01f0b",
   "metadata": {
    "papermill": {
     "duration": 0.012362,
     "end_time": "2024-09-10T11:09:37.071019",
     "exception": false,
     "start_time": "2024-09-10T11:09:37.058657",
     "status": "completed"
    },
    "tags": []
   },
   "source": [
    "### Import Data"
   ]
  },
  {
   "cell_type": "code",
   "execution_count": 1,
   "id": "6efafdba",
   "metadata": {
    "_cell_guid": "b1076dfc-b9ad-4769-8c92-a6c4dae69d19",
    "_uuid": "8f2839f25d086af736a60e9eeb907d3b93b6e0e5",
    "execution": {
     "iopub.execute_input": "2024-09-10T11:09:37.097734Z",
     "iopub.status.busy": "2024-09-10T11:09:37.097308Z",
     "iopub.status.idle": "2024-09-10T11:09:37.115539Z",
     "shell.execute_reply": "2024-09-10T11:09:37.114522Z"
    },
    "papermill": {
     "duration": 0.034129,
     "end_time": "2024-09-10T11:09:37.117689",
     "exception": false,
     "start_time": "2024-09-10T11:09:37.083560",
     "status": "completed"
    },
    "tags": []
   },
   "outputs": [
    {
     "name": "stdout",
     "output_type": "stream",
     "text": [
      "/kaggle/input/Ratings.csv\n",
      "/kaggle/input/Users.csv\n",
      "/kaggle/input/classicRec.png\n",
      "/kaggle/input/Books.csv\n",
      "/kaggle/input/DeepRec.png\n",
      "/kaggle/input/recsys_taxonomy2.png\n"
     ]
    }
   ],
   "source": [
    "import os\n",
    "for dirname, _, filenames in os.walk('/kaggle/input'):\n",
    "    for filename in filenames:\n",
    "        print(os.path.join(dirname, filename))\n",
    "\n",
    "# Handle warning messages\n",
    "import warnings\n",
    "warnings.filterwarnings('ignore')"
   ]
  },
  {
   "cell_type": "markdown",
   "id": "454bfaff",
   "metadata": {
    "papermill": {
     "duration": 0.012194,
     "end_time": "2024-09-10T11:09:37.142600",
     "exception": false,
     "start_time": "2024-09-10T11:09:37.130406",
     "status": "completed"
    },
    "tags": []
   },
   "source": [
    "### Importing Necessary Libraries"
   ]
  },
  {
   "cell_type": "code",
   "execution_count": 2,
   "id": "839c0f8d",
   "metadata": {
    "execution": {
     "iopub.execute_input": "2024-09-10T11:09:37.169883Z",
     "iopub.status.busy": "2024-09-10T11:09:37.169454Z",
     "iopub.status.idle": "2024-09-10T11:09:39.131228Z",
     "shell.execute_reply": "2024-09-10T11:09:39.130149Z"
    },
    "papermill": {
     "duration": 1.978532,
     "end_time": "2024-09-10T11:09:39.133761",
     "exception": false,
     "start_time": "2024-09-10T11:09:37.155229",
     "status": "completed"
    },
    "tags": []
   },
   "outputs": [],
   "source": [
    "import numpy as np\n",
    "import pandas as pd\n",
    "\n",
    "import matplotlib.pyplot as plt\n",
    "%matplotlib inline\n",
    "\n",
    "from scipy.sparse import csr_matrix\n",
    "from sklearn.metrics.pairwise import cosine_similarity\n",
    "from sklearn.neighbors import NearestNeighbors\n",
    "from sklearn.cluster import KMeans\n",
    "from sklearn.metrics import silhouette_score\n",
    "from sklearn.mixture import GaussianMixture"
   ]
  },
  {
   "cell_type": "markdown",
   "id": "9597e4d5",
   "metadata": {
    "papermill": {
     "duration": 0.012554,
     "end_time": "2024-09-10T11:09:39.159003",
     "exception": false,
     "start_time": "2024-09-10T11:09:39.146449",
     "status": "completed"
    },
    "tags": []
   },
   "source": [
    "### Loading Dataset into pandas dataframes."
   ]
  },
  {
   "cell_type": "code",
   "execution_count": 3,
   "id": "51b844a2",
   "metadata": {
    "execution": {
     "iopub.execute_input": "2024-09-10T11:09:39.186946Z",
     "iopub.status.busy": "2024-09-10T11:09:39.185821Z",
     "iopub.status.idle": "2024-09-10T11:09:43.134931Z",
     "shell.execute_reply": "2024-09-10T11:09:43.133564Z"
    },
    "papermill": {
     "duration": 3.965581,
     "end_time": "2024-09-10T11:09:43.137290",
     "exception": false,
     "start_time": "2024-09-10T11:09:39.171709",
     "status": "completed"
    },
    "tags": []
   },
   "outputs": [
    {
     "name": "stdout",
     "output_type": "stream",
     "text": [
      "Books: (271360, 8)\n",
      "Users: (278858, 3)\n",
      "Ratinsg: (1149780, 3)\n"
     ]
    }
   ],
   "source": [
    "books = pd.read_csv(\"/kaggle/input/Books.csv\")\n",
    "users = pd.read_csv(\"/kaggle/input/Users.csv\")\n",
    "ratings = pd.read_csv(\"/kaggle/input/Ratings.csv\")\n",
    "print('Books:',books.shape)\n",
    "print('Users:',users.shape)\n",
    "print('Ratinsg:',ratings.shape)"
   ]
  },
  {
   "cell_type": "markdown",
   "id": "b36b3e02",
   "metadata": {
    "papermill": {
     "duration": 0.01256,
     "end_time": "2024-09-10T11:09:43.162685",
     "exception": false,
     "start_time": "2024-09-10T11:09:43.150125",
     "status": "completed"
    },
    "tags": []
   },
   "source": [
    "# Data Exploration & Preprocessing"
   ]
  },
  {
   "cell_type": "markdown",
   "id": "db7ccc9b",
   "metadata": {
    "papermill": {
     "duration": 0.012422,
     "end_time": "2024-09-10T11:09:43.187731",
     "exception": false,
     "start_time": "2024-09-10T11:09:43.175309",
     "status": "completed"
    },
    "tags": []
   },
   "source": [
    "## Books"
   ]
  },
  {
   "cell_type": "code",
   "execution_count": 4,
   "id": "0b99e52f",
   "metadata": {
    "execution": {
     "iopub.execute_input": "2024-09-10T11:09:43.215533Z",
     "iopub.status.busy": "2024-09-10T11:09:43.214489Z",
     "iopub.status.idle": "2024-09-10T11:09:43.220227Z",
     "shell.execute_reply": "2024-09-10T11:09:43.219156Z"
    },
    "papermill": {
     "duration": 0.022036,
     "end_time": "2024-09-10T11:09:43.222497",
     "exception": false,
     "start_time": "2024-09-10T11:09:43.200461",
     "status": "completed"
    },
    "tags": []
   },
   "outputs": [
    {
     "name": "stdout",
     "output_type": "stream",
     "text": [
      "Books: (271360, 8)\n"
     ]
    }
   ],
   "source": [
    "print('Books:',books.shape)"
   ]
  },
  {
   "cell_type": "code",
   "execution_count": 5,
   "id": "f25362fd",
   "metadata": {
    "execution": {
     "iopub.execute_input": "2024-09-10T11:09:43.250270Z",
     "iopub.status.busy": "2024-09-10T11:09:43.249497Z",
     "iopub.status.idle": "2024-09-10T11:09:43.285855Z",
     "shell.execute_reply": "2024-09-10T11:09:43.284817Z"
    },
    "papermill": {
     "duration": 0.052874,
     "end_time": "2024-09-10T11:09:43.288225",
     "exception": false,
     "start_time": "2024-09-10T11:09:43.235351",
     "status": "completed"
    },
    "tags": []
   },
   "outputs": [
    {
     "data": {
      "text/html": [
       "<div>\n",
       "<style scoped>\n",
       "    .dataframe tbody tr th:only-of-type {\n",
       "        vertical-align: middle;\n",
       "    }\n",
       "\n",
       "    .dataframe tbody tr th {\n",
       "        vertical-align: top;\n",
       "    }\n",
       "\n",
       "    .dataframe thead th {\n",
       "        text-align: right;\n",
       "    }\n",
       "</style>\n",
       "<table border=\"1\" class=\"dataframe\">\n",
       "  <thead>\n",
       "    <tr style=\"text-align: right;\">\n",
       "      <th></th>\n",
       "      <th>ISBN</th>\n",
       "      <th>Book-Title</th>\n",
       "      <th>Book-Author</th>\n",
       "      <th>Year-Of-Publication</th>\n",
       "      <th>Publisher</th>\n",
       "      <th>Image-URL-S</th>\n",
       "      <th>Image-URL-M</th>\n",
       "      <th>Image-URL-L</th>\n",
       "    </tr>\n",
       "  </thead>\n",
       "  <tbody>\n",
       "    <tr>\n",
       "      <th>241150</th>\n",
       "      <td>0684196301</td>\n",
       "      <td>OUT OF CONTROL GLOBAL TURMOIL ON THE EVE OF TH...</td>\n",
       "      <td>Zbigniew Brzezinski</td>\n",
       "      <td>1993</td>\n",
       "      <td>Scribner</td>\n",
       "      <td>http://images.amazon.com/images/P/0684196301.0...</td>\n",
       "      <td>http://images.amazon.com/images/P/0684196301.0...</td>\n",
       "      <td>http://images.amazon.com/images/P/0684196301.0...</td>\n",
       "    </tr>\n",
       "    <tr>\n",
       "      <th>231818</th>\n",
       "      <td>0671671685</td>\n",
       "      <td>Talk That Talk : An Anthology of African-Ameri...</td>\n",
       "      <td>Linda Goss</td>\n",
       "      <td>1989</td>\n",
       "      <td>Touchstone</td>\n",
       "      <td>http://images.amazon.com/images/P/0671671685.0...</td>\n",
       "      <td>http://images.amazon.com/images/P/0671671685.0...</td>\n",
       "      <td>http://images.amazon.com/images/P/0671671685.0...</td>\n",
       "    </tr>\n",
       "    <tr>\n",
       "      <th>96192</th>\n",
       "      <td>0446516910</td>\n",
       "      <td>A Love Divine</td>\n",
       "      <td>Alexandra Ripley</td>\n",
       "      <td>1996</td>\n",
       "      <td>Warner Books</td>\n",
       "      <td>http://images.amazon.com/images/P/0446516910.0...</td>\n",
       "      <td>http://images.amazon.com/images/P/0446516910.0...</td>\n",
       "      <td>http://images.amazon.com/images/P/0446516910.0...</td>\n",
       "    </tr>\n",
       "    <tr>\n",
       "      <th>158333</th>\n",
       "      <td>0394744128</td>\n",
       "      <td>A Practical Handbook for the Actor</td>\n",
       "      <td>Melissa Bruder</td>\n",
       "      <td>1986</td>\n",
       "      <td>Vintage Books USA</td>\n",
       "      <td>http://images.amazon.com/images/P/0394744128.0...</td>\n",
       "      <td>http://images.amazon.com/images/P/0394744128.0...</td>\n",
       "      <td>http://images.amazon.com/images/P/0394744128.0...</td>\n",
       "    </tr>\n",
       "    <tr>\n",
       "      <th>153249</th>\n",
       "      <td>0893751928</td>\n",
       "      <td>L. Frank Baum's Dorothy and the Wizard (Wizard...</td>\n",
       "      <td>Corinne J. Naden</td>\n",
       "      <td>1980</td>\n",
       "      <td>Troll Communications Llc</td>\n",
       "      <td>http://images.amazon.com/images/P/0893751928.0...</td>\n",
       "      <td>http://images.amazon.com/images/P/0893751928.0...</td>\n",
       "      <td>http://images.amazon.com/images/P/0893751928.0...</td>\n",
       "    </tr>\n",
       "  </tbody>\n",
       "</table>\n",
       "</div>"
      ],
      "text/plain": [
       "              ISBN                                         Book-Title  \\\n",
       "241150  0684196301  OUT OF CONTROL GLOBAL TURMOIL ON THE EVE OF TH...   \n",
       "231818  0671671685  Talk That Talk : An Anthology of African-Ameri...   \n",
       "96192   0446516910                                      A Love Divine   \n",
       "158333  0394744128                 A Practical Handbook for the Actor   \n",
       "153249  0893751928  L. Frank Baum's Dorothy and the Wizard (Wizard...   \n",
       "\n",
       "                Book-Author Year-Of-Publication                 Publisher  \\\n",
       "241150  Zbigniew Brzezinski                1993                  Scribner   \n",
       "231818           Linda Goss                1989                Touchstone   \n",
       "96192      Alexandra Ripley                1996              Warner Books   \n",
       "158333       Melissa Bruder                1986         Vintage Books USA   \n",
       "153249     Corinne J. Naden                1980  Troll Communications Llc   \n",
       "\n",
       "                                              Image-URL-S  \\\n",
       "241150  http://images.amazon.com/images/P/0684196301.0...   \n",
       "231818  http://images.amazon.com/images/P/0671671685.0...   \n",
       "96192   http://images.amazon.com/images/P/0446516910.0...   \n",
       "158333  http://images.amazon.com/images/P/0394744128.0...   \n",
       "153249  http://images.amazon.com/images/P/0893751928.0...   \n",
       "\n",
       "                                              Image-URL-M  \\\n",
       "241150  http://images.amazon.com/images/P/0684196301.0...   \n",
       "231818  http://images.amazon.com/images/P/0671671685.0...   \n",
       "96192   http://images.amazon.com/images/P/0446516910.0...   \n",
       "158333  http://images.amazon.com/images/P/0394744128.0...   \n",
       "153249  http://images.amazon.com/images/P/0893751928.0...   \n",
       "\n",
       "                                              Image-URL-L  \n",
       "241150  http://images.amazon.com/images/P/0684196301.0...  \n",
       "231818  http://images.amazon.com/images/P/0671671685.0...  \n",
       "96192   http://images.amazon.com/images/P/0446516910.0...  \n",
       "158333  http://images.amazon.com/images/P/0394744128.0...  \n",
       "153249  http://images.amazon.com/images/P/0893751928.0...  "
      ]
     },
     "execution_count": 5,
     "metadata": {},
     "output_type": "execute_result"
    }
   ],
   "source": [
    "books.sample(5)"
   ]
  },
  {
   "cell_type": "code",
   "execution_count": 6,
   "id": "18cc0495",
   "metadata": {
    "execution": {
     "iopub.execute_input": "2024-09-10T11:09:43.316283Z",
     "iopub.status.busy": "2024-09-10T11:09:43.315856Z",
     "iopub.status.idle": "2024-09-10T11:09:43.322813Z",
     "shell.execute_reply": "2024-09-10T11:09:43.321895Z"
    },
    "papermill": {
     "duration": 0.02355,
     "end_time": "2024-09-10T11:09:43.324977",
     "exception": false,
     "start_time": "2024-09-10T11:09:43.301427",
     "status": "completed"
    },
    "tags": []
   },
   "outputs": [
    {
     "data": {
      "text/plain": [
       "Index(['ISBN', 'Book-Title', 'Book-Author', 'Year-Of-Publication', 'Publisher',\n",
       "       'Image-URL-S', 'Image-URL-M', 'Image-URL-L'],\n",
       "      dtype='object')"
      ]
     },
     "execution_count": 6,
     "metadata": {},
     "output_type": "execute_result"
    }
   ],
   "source": [
    "books.columns"
   ]
  },
  {
   "cell_type": "code",
   "execution_count": 7,
   "id": "a5919869",
   "metadata": {
    "execution": {
     "iopub.execute_input": "2024-09-10T11:09:43.353855Z",
     "iopub.status.busy": "2024-09-10T11:09:43.352873Z",
     "iopub.status.idle": "2024-09-10T11:09:43.358791Z",
     "shell.execute_reply": "2024-09-10T11:09:43.357763Z"
    },
    "papermill": {
     "duration": 0.022753,
     "end_time": "2024-09-10T11:09:43.360964",
     "exception": false,
     "start_time": "2024-09-10T11:09:43.338211",
     "status": "completed"
    },
    "tags": []
   },
   "outputs": [],
   "source": [
    "books.rename(columns={'Book-Title':'Title','Book-Author':'Author','Year-Of-Publication':'Publication_Year'},inplace=True)"
   ]
  },
  {
   "cell_type": "code",
   "execution_count": 8,
   "id": "3e9ed924",
   "metadata": {
    "execution": {
     "iopub.execute_input": "2024-09-10T11:09:43.389166Z",
     "iopub.status.busy": "2024-09-10T11:09:43.388724Z",
     "iopub.status.idle": "2024-09-10T11:09:43.513907Z",
     "shell.execute_reply": "2024-09-10T11:09:43.512729Z"
    },
    "papermill": {
     "duration": 0.142096,
     "end_time": "2024-09-10T11:09:43.516311",
     "exception": false,
     "start_time": "2024-09-10T11:09:43.374215",
     "status": "completed"
    },
    "tags": []
   },
   "outputs": [
    {
     "name": "stdout",
     "output_type": "stream",
     "text": [
      "<class 'pandas.core.frame.DataFrame'>\n",
      "RangeIndex: 271360 entries, 0 to 271359\n",
      "Data columns (total 8 columns):\n",
      " #   Column            Non-Null Count   Dtype \n",
      "---  ------            --------------   ----- \n",
      " 0   ISBN              271360 non-null  object\n",
      " 1   Title             271360 non-null  object\n",
      " 2   Author            271358 non-null  object\n",
      " 3   Publication_Year  271360 non-null  object\n",
      " 4   Publisher         271358 non-null  object\n",
      " 5   Image-URL-S       271360 non-null  object\n",
      " 6   Image-URL-M       271360 non-null  object\n",
      " 7   Image-URL-L       271357 non-null  object\n",
      "dtypes: object(8)\n",
      "memory usage: 16.6+ MB\n"
     ]
    }
   ],
   "source": [
    "books.info()"
   ]
  },
  {
   "cell_type": "code",
   "execution_count": 9,
   "id": "74d6ca19",
   "metadata": {
    "execution": {
     "iopub.execute_input": "2024-09-10T11:09:43.545124Z",
     "iopub.status.busy": "2024-09-10T11:09:43.544178Z",
     "iopub.status.idle": "2024-09-10T11:09:43.657471Z",
     "shell.execute_reply": "2024-09-10T11:09:43.656416Z"
    },
    "papermill": {
     "duration": 0.130193,
     "end_time": "2024-09-10T11:09:43.659740",
     "exception": false,
     "start_time": "2024-09-10T11:09:43.529547",
     "status": "completed"
    },
    "tags": []
   },
   "outputs": [
    {
     "data": {
      "text/plain": [
       "ISBN                0\n",
       "Title               0\n",
       "Author              2\n",
       "Publication_Year    0\n",
       "Publisher           2\n",
       "Image-URL-S         0\n",
       "Image-URL-M         0\n",
       "Image-URL-L         3\n",
       "dtype: int64"
      ]
     },
     "execution_count": 9,
     "metadata": {},
     "output_type": "execute_result"
    }
   ],
   "source": [
    "books.isnull().sum()"
   ]
  },
  {
   "cell_type": "code",
   "execution_count": 10,
   "id": "18bcfc1e",
   "metadata": {
    "execution": {
     "iopub.execute_input": "2024-09-10T11:09:43.688755Z",
     "iopub.status.busy": "2024-09-10T11:09:43.688321Z",
     "iopub.status.idle": "2024-09-10T11:09:44.237672Z",
     "shell.execute_reply": "2024-09-10T11:09:44.236592Z"
    },
    "papermill": {
     "duration": 0.566505,
     "end_time": "2024-09-10T11:09:44.240098",
     "exception": false,
     "start_time": "2024-09-10T11:09:43.673593",
     "status": "completed"
    },
    "tags": []
   },
   "outputs": [
    {
     "data": {
      "text/plain": [
       "0"
      ]
     },
     "execution_count": 10,
     "metadata": {},
     "output_type": "execute_result"
    }
   ],
   "source": [
    "books.duplicated().sum()"
   ]
  },
  {
   "cell_type": "code",
   "execution_count": 11,
   "id": "b5304b0a",
   "metadata": {
    "execution": {
     "iopub.execute_input": "2024-09-10T11:09:44.269341Z",
     "iopub.status.busy": "2024-09-10T11:09:44.268901Z",
     "iopub.status.idle": "2024-09-10T11:09:44.275654Z",
     "shell.execute_reply": "2024-09-10T11:09:44.274449Z"
    },
    "papermill": {
     "duration": 0.023888,
     "end_time": "2024-09-10T11:09:44.277800",
     "exception": false,
     "start_time": "2024-09-10T11:09:44.253912",
     "status": "completed"
    },
    "tags": []
   },
   "outputs": [
    {
     "data": {
      "text/plain": [
       "(271360, 8)"
      ]
     },
     "execution_count": 11,
     "metadata": {},
     "output_type": "execute_result"
    }
   ],
   "source": [
    "books.shape"
   ]
  },
  {
   "cell_type": "code",
   "execution_count": 12,
   "id": "fc008b74",
   "metadata": {
    "execution": {
     "iopub.execute_input": "2024-09-10T11:09:44.306723Z",
     "iopub.status.busy": "2024-09-10T11:09:44.306012Z",
     "iopub.status.idle": "2024-09-10T11:09:44.724604Z",
     "shell.execute_reply": "2024-09-10T11:09:44.723325Z"
    },
    "papermill": {
     "duration": 0.436023,
     "end_time": "2024-09-10T11:09:44.727285",
     "exception": false,
     "start_time": "2024-09-10T11:09:44.291262",
     "status": "completed"
    },
    "tags": []
   },
   "outputs": [],
   "source": [
    "books['Image-URL-S'] = books['Image-URL-S'].str.replace('http://', 'https://')\n",
    "books['Image-URL-M'] = books['Image-URL-M'].str.replace('http://', 'https://')\n",
    "books['Image-URL-L'] = books['Image-URL-L'].str.replace('http://', 'https://')"
   ]
  },
  {
   "cell_type": "markdown",
   "id": "bdcc795d",
   "metadata": {
    "papermill": {
     "duration": 0.016395,
     "end_time": "2024-09-10T11:09:44.761215",
     "exception": false,
     "start_time": "2024-09-10T11:09:44.744820",
     "status": "completed"
    },
    "tags": []
   },
   "source": [
    "## Users"
   ]
  },
  {
   "cell_type": "code",
   "execution_count": 13,
   "id": "057dcfb4",
   "metadata": {
    "execution": {
     "iopub.execute_input": "2024-09-10T11:09:44.798823Z",
     "iopub.status.busy": "2024-09-10T11:09:44.798421Z",
     "iopub.status.idle": "2024-09-10T11:09:44.803853Z",
     "shell.execute_reply": "2024-09-10T11:09:44.802774Z"
    },
    "papermill": {
     "duration": 0.027998,
     "end_time": "2024-09-10T11:09:44.806330",
     "exception": false,
     "start_time": "2024-09-10T11:09:44.778332",
     "status": "completed"
    },
    "tags": []
   },
   "outputs": [
    {
     "name": "stdout",
     "output_type": "stream",
     "text": [
      "Users: (278858, 3)\n"
     ]
    }
   ],
   "source": [
    "print('Users:',users.shape)"
   ]
  },
  {
   "cell_type": "code",
   "execution_count": 14,
   "id": "a5ba0d95",
   "metadata": {
    "execution": {
     "iopub.execute_input": "2024-09-10T11:09:44.835722Z",
     "iopub.status.busy": "2024-09-10T11:09:44.835330Z",
     "iopub.status.idle": "2024-09-10T11:09:44.858669Z",
     "shell.execute_reply": "2024-09-10T11:09:44.857608Z"
    },
    "papermill": {
     "duration": 0.040989,
     "end_time": "2024-09-10T11:09:44.860968",
     "exception": false,
     "start_time": "2024-09-10T11:09:44.819979",
     "status": "completed"
    },
    "tags": []
   },
   "outputs": [
    {
     "data": {
      "text/html": [
       "<div>\n",
       "<style scoped>\n",
       "    .dataframe tbody tr th:only-of-type {\n",
       "        vertical-align: middle;\n",
       "    }\n",
       "\n",
       "    .dataframe tbody tr th {\n",
       "        vertical-align: top;\n",
       "    }\n",
       "\n",
       "    .dataframe thead th {\n",
       "        text-align: right;\n",
       "    }\n",
       "</style>\n",
       "<table border=\"1\" class=\"dataframe\">\n",
       "  <thead>\n",
       "    <tr style=\"text-align: right;\">\n",
       "      <th></th>\n",
       "      <th>User-ID</th>\n",
       "      <th>Location</th>\n",
       "      <th>Age</th>\n",
       "    </tr>\n",
       "  </thead>\n",
       "  <tbody>\n",
       "    <tr>\n",
       "      <th>227662</th>\n",
       "      <td>227663</td>\n",
       "      <td>bloomer, wisconsin, usa</td>\n",
       "      <td>51.0</td>\n",
       "    </tr>\n",
       "    <tr>\n",
       "      <th>252341</th>\n",
       "      <td>252342</td>\n",
       "      <td>lakeland, florida, usa</td>\n",
       "      <td>28.0</td>\n",
       "    </tr>\n",
       "    <tr>\n",
       "      <th>191039</th>\n",
       "      <td>191040</td>\n",
       "      <td>santiago, santiago, chile</td>\n",
       "      <td>34.0</td>\n",
       "    </tr>\n",
       "    <tr>\n",
       "      <th>57217</th>\n",
       "      <td>57218</td>\n",
       "      <td>glen ridge, new jersey, usa</td>\n",
       "      <td>34.0</td>\n",
       "    </tr>\n",
       "    <tr>\n",
       "      <th>211819</th>\n",
       "      <td>211820</td>\n",
       "      <td>nanjing, jiangsu,nanjing, china</td>\n",
       "      <td>NaN</td>\n",
       "    </tr>\n",
       "  </tbody>\n",
       "</table>\n",
       "</div>"
      ],
      "text/plain": [
       "        User-ID                         Location   Age\n",
       "227662   227663          bloomer, wisconsin, usa  51.0\n",
       "252341   252342           lakeland, florida, usa  28.0\n",
       "191039   191040        santiago, santiago, chile  34.0\n",
       "57217     57218      glen ridge, new jersey, usa  34.0\n",
       "211819   211820  nanjing, jiangsu,nanjing, china   NaN"
      ]
     },
     "execution_count": 14,
     "metadata": {},
     "output_type": "execute_result"
    }
   ],
   "source": [
    "users.sample(5)"
   ]
  },
  {
   "cell_type": "code",
   "execution_count": 15,
   "id": "55bbceac",
   "metadata": {
    "execution": {
     "iopub.execute_input": "2024-09-10T11:09:44.890585Z",
     "iopub.status.busy": "2024-09-10T11:09:44.890178Z",
     "iopub.status.idle": "2024-09-10T11:09:44.895933Z",
     "shell.execute_reply": "2024-09-10T11:09:44.894774Z"
    },
    "papermill": {
     "duration": 0.023206,
     "end_time": "2024-09-10T11:09:44.898134",
     "exception": false,
     "start_time": "2024-09-10T11:09:44.874928",
     "status": "completed"
    },
    "tags": []
   },
   "outputs": [],
   "source": [
    "users.rename(columns={'User-ID':'User_ID'},inplace=True)"
   ]
  },
  {
   "cell_type": "code",
   "execution_count": 16,
   "id": "ad084e35",
   "metadata": {
    "execution": {
     "iopub.execute_input": "2024-09-10T11:09:44.928623Z",
     "iopub.status.busy": "2024-09-10T11:09:44.927608Z",
     "iopub.status.idle": "2024-09-10T11:09:44.955178Z",
     "shell.execute_reply": "2024-09-10T11:09:44.953762Z"
    },
    "papermill": {
     "duration": 0.044899,
     "end_time": "2024-09-10T11:09:44.957364",
     "exception": false,
     "start_time": "2024-09-10T11:09:44.912465",
     "status": "completed"
    },
    "tags": []
   },
   "outputs": [
    {
     "name": "stdout",
     "output_type": "stream",
     "text": [
      "<class 'pandas.core.frame.DataFrame'>\n",
      "RangeIndex: 278858 entries, 0 to 278857\n",
      "Data columns (total 3 columns):\n",
      " #   Column    Non-Null Count   Dtype  \n",
      "---  ------    --------------   -----  \n",
      " 0   User_ID   278858 non-null  int64  \n",
      " 1   Location  278858 non-null  object \n",
      " 2   Age       168096 non-null  float64\n",
      "dtypes: float64(1), int64(1), object(1)\n",
      "memory usage: 6.4+ MB\n"
     ]
    }
   ],
   "source": [
    "users.info()"
   ]
  },
  {
   "cell_type": "code",
   "execution_count": 17,
   "id": "7e80aa38",
   "metadata": {
    "execution": {
     "iopub.execute_input": "2024-09-10T11:09:44.988339Z",
     "iopub.status.busy": "2024-09-10T11:09:44.987144Z",
     "iopub.status.idle": "2024-09-10T11:09:45.020160Z",
     "shell.execute_reply": "2024-09-10T11:09:45.018912Z"
    },
    "papermill": {
     "duration": 0.051143,
     "end_time": "2024-09-10T11:09:45.022573",
     "exception": false,
     "start_time": "2024-09-10T11:09:44.971430",
     "status": "completed"
    },
    "tags": []
   },
   "outputs": [
    {
     "data": {
      "text/plain": [
       "User_ID          0\n",
       "Location         0\n",
       "Age         110762\n",
       "dtype: int64"
      ]
     },
     "execution_count": 17,
     "metadata": {},
     "output_type": "execute_result"
    }
   ],
   "source": [
    "users.isnull().sum()"
   ]
  },
  {
   "cell_type": "code",
   "execution_count": 18,
   "id": "d3b2dcfe",
   "metadata": {
    "execution": {
     "iopub.execute_input": "2024-09-10T11:09:45.053679Z",
     "iopub.status.busy": "2024-09-10T11:09:45.053243Z",
     "iopub.status.idle": "2024-09-10T11:09:45.132606Z",
     "shell.execute_reply": "2024-09-10T11:09:45.131551Z"
    },
    "papermill": {
     "duration": 0.097285,
     "end_time": "2024-09-10T11:09:45.134745",
     "exception": false,
     "start_time": "2024-09-10T11:09:45.037460",
     "status": "completed"
    },
    "tags": []
   },
   "outputs": [
    {
     "data": {
      "text/plain": [
       "0"
      ]
     },
     "execution_count": 18,
     "metadata": {},
     "output_type": "execute_result"
    }
   ],
   "source": [
    "users.duplicated().sum()"
   ]
  },
  {
   "cell_type": "markdown",
   "id": "afc77e49",
   "metadata": {
    "papermill": {
     "duration": 0.013859,
     "end_time": "2024-09-10T11:09:45.162681",
     "exception": false,
     "start_time": "2024-09-10T11:09:45.148822",
     "status": "completed"
    },
    "tags": []
   },
   "source": [
    "## Ratings"
   ]
  },
  {
   "cell_type": "code",
   "execution_count": 19,
   "id": "e44378c6",
   "metadata": {
    "execution": {
     "iopub.execute_input": "2024-09-10T11:09:45.192458Z",
     "iopub.status.busy": "2024-09-10T11:09:45.192031Z",
     "iopub.status.idle": "2024-09-10T11:09:45.197454Z",
     "shell.execute_reply": "2024-09-10T11:09:45.196350Z"
    },
    "papermill": {
     "duration": 0.023003,
     "end_time": "2024-09-10T11:09:45.199788",
     "exception": false,
     "start_time": "2024-09-10T11:09:45.176785",
     "status": "completed"
    },
    "tags": []
   },
   "outputs": [
    {
     "name": "stdout",
     "output_type": "stream",
     "text": [
      "Ratings: (1149780, 3)\n"
     ]
    }
   ],
   "source": [
    "print('Ratings:',ratings.shape)"
   ]
  },
  {
   "cell_type": "code",
   "execution_count": 20,
   "id": "175fa83a",
   "metadata": {
    "execution": {
     "iopub.execute_input": "2024-09-10T11:09:45.230298Z",
     "iopub.status.busy": "2024-09-10T11:09:45.229870Z",
     "iopub.status.idle": "2024-09-10T11:09:45.279192Z",
     "shell.execute_reply": "2024-09-10T11:09:45.278042Z"
    },
    "papermill": {
     "duration": 0.067317,
     "end_time": "2024-09-10T11:09:45.281560",
     "exception": false,
     "start_time": "2024-09-10T11:09:45.214243",
     "status": "completed"
    },
    "tags": []
   },
   "outputs": [
    {
     "data": {
      "text/html": [
       "<div>\n",
       "<style scoped>\n",
       "    .dataframe tbody tr th:only-of-type {\n",
       "        vertical-align: middle;\n",
       "    }\n",
       "\n",
       "    .dataframe tbody tr th {\n",
       "        vertical-align: top;\n",
       "    }\n",
       "\n",
       "    .dataframe thead th {\n",
       "        text-align: right;\n",
       "    }\n",
       "</style>\n",
       "<table border=\"1\" class=\"dataframe\">\n",
       "  <thead>\n",
       "    <tr style=\"text-align: right;\">\n",
       "      <th></th>\n",
       "      <th>User-ID</th>\n",
       "      <th>ISBN</th>\n",
       "      <th>Book-Rating</th>\n",
       "    </tr>\n",
       "  </thead>\n",
       "  <tbody>\n",
       "    <tr>\n",
       "      <th>264284</th>\n",
       "      <td>60809</td>\n",
       "      <td>2020564777</td>\n",
       "      <td>7</td>\n",
       "    </tr>\n",
       "    <tr>\n",
       "      <th>279992</th>\n",
       "      <td>66483</td>\n",
       "      <td>345833422</td>\n",
       "      <td>0</td>\n",
       "    </tr>\n",
       "    <tr>\n",
       "      <th>41422</th>\n",
       "      <td>10502</td>\n",
       "      <td>0373264216</td>\n",
       "      <td>0</td>\n",
       "    </tr>\n",
       "    <tr>\n",
       "      <th>435007</th>\n",
       "      <td>104123</td>\n",
       "      <td>0515132624</td>\n",
       "      <td>0</td>\n",
       "    </tr>\n",
       "    <tr>\n",
       "      <th>205364</th>\n",
       "      <td>47090</td>\n",
       "      <td>1562314416</td>\n",
       "      <td>0</td>\n",
       "    </tr>\n",
       "  </tbody>\n",
       "</table>\n",
       "</div>"
      ],
      "text/plain": [
       "        User-ID        ISBN  Book-Rating\n",
       "264284    60809  2020564777            7\n",
       "279992    66483   345833422            0\n",
       "41422     10502  0373264216            0\n",
       "435007   104123  0515132624            0\n",
       "205364    47090  1562314416            0"
      ]
     },
     "execution_count": 20,
     "metadata": {},
     "output_type": "execute_result"
    }
   ],
   "source": [
    "ratings.sample(5)"
   ]
  },
  {
   "cell_type": "code",
   "execution_count": 21,
   "id": "b809dc30",
   "metadata": {
    "execution": {
     "iopub.execute_input": "2024-09-10T11:09:45.312495Z",
     "iopub.status.busy": "2024-09-10T11:09:45.312072Z",
     "iopub.status.idle": "2024-09-10T11:09:45.317569Z",
     "shell.execute_reply": "2024-09-10T11:09:45.316578Z"
    },
    "papermill": {
     "duration": 0.023391,
     "end_time": "2024-09-10T11:09:45.319655",
     "exception": false,
     "start_time": "2024-09-10T11:09:45.296264",
     "status": "completed"
    },
    "tags": []
   },
   "outputs": [],
   "source": [
    "ratings.rename(columns={'User-ID':'User_ID','Book-Rating':'Rating'},inplace=True)"
   ]
  },
  {
   "cell_type": "code",
   "execution_count": 22,
   "id": "1dbe73b1",
   "metadata": {
    "execution": {
     "iopub.execute_input": "2024-09-10T11:09:45.350797Z",
     "iopub.status.busy": "2024-09-10T11:09:45.350372Z",
     "iopub.status.idle": "2024-09-10T11:09:45.432962Z",
     "shell.execute_reply": "2024-09-10T11:09:45.430623Z"
    },
    "papermill": {
     "duration": 0.101788,
     "end_time": "2024-09-10T11:09:45.436168",
     "exception": false,
     "start_time": "2024-09-10T11:09:45.334380",
     "status": "completed"
    },
    "tags": []
   },
   "outputs": [
    {
     "name": "stdout",
     "output_type": "stream",
     "text": [
      "<class 'pandas.core.frame.DataFrame'>\n",
      "RangeIndex: 1149780 entries, 0 to 1149779\n",
      "Data columns (total 3 columns):\n",
      " #   Column   Non-Null Count    Dtype \n",
      "---  ------   --------------    ----- \n",
      " 0   User_ID  1149780 non-null  int64 \n",
      " 1   ISBN     1149780 non-null  object\n",
      " 2   Rating   1149780 non-null  int64 \n",
      "dtypes: int64(2), object(1)\n",
      "memory usage: 26.3+ MB\n"
     ]
    }
   ],
   "source": [
    "ratings.info()"
   ]
  },
  {
   "cell_type": "code",
   "execution_count": 23,
   "id": "65736e09",
   "metadata": {
    "execution": {
     "iopub.execute_input": "2024-09-10T11:09:45.469276Z",
     "iopub.status.busy": "2024-09-10T11:09:45.468744Z",
     "iopub.status.idle": "2024-09-10T11:09:45.823496Z",
     "shell.execute_reply": "2024-09-10T11:09:45.822330Z"
    },
    "papermill": {
     "duration": 0.373247,
     "end_time": "2024-09-10T11:09:45.825693",
     "exception": false,
     "start_time": "2024-09-10T11:09:45.452446",
     "status": "completed"
    },
    "tags": []
   },
   "outputs": [
    {
     "data": {
      "text/plain": [
       "0"
      ]
     },
     "execution_count": 23,
     "metadata": {},
     "output_type": "execute_result"
    }
   ],
   "source": [
    "ratings.duplicated().sum()"
   ]
  },
  {
   "cell_type": "markdown",
   "id": "4926eeb3",
   "metadata": {
    "papermill": {
     "duration": 0.014321,
     "end_time": "2024-09-10T11:09:45.854711",
     "exception": false,
     "start_time": "2024-09-10T11:09:45.840390",
     "status": "completed"
    },
    "tags": []
   },
   "source": [
    "# Top 50 Books based on Popularity"
   ]
  },
  {
   "cell_type": "markdown",
   "id": "0e8d595a",
   "metadata": {
    "papermill": {
     "duration": 0.014816,
     "end_time": "2024-09-10T11:09:45.884169",
     "exception": false,
     "start_time": "2024-09-10T11:09:45.869353",
     "status": "completed"
    },
    "tags": []
   },
   "source": [
    "Creating Dataset by merging **Ratings** and **Books**"
   ]
  },
  {
   "cell_type": "code",
   "execution_count": 24,
   "id": "03a113fc",
   "metadata": {
    "execution": {
     "iopub.execute_input": "2024-09-10T11:09:45.915889Z",
     "iopub.status.busy": "2024-09-10T11:09:45.914944Z",
     "iopub.status.idle": "2024-09-10T11:09:47.510709Z",
     "shell.execute_reply": "2024-09-10T11:09:47.509649Z"
    },
    "papermill": {
     "duration": 1.614126,
     "end_time": "2024-09-10T11:09:47.513006",
     "exception": false,
     "start_time": "2024-09-10T11:09:45.898880",
     "status": "completed"
    },
    "tags": []
   },
   "outputs": [
    {
     "data": {
      "text/plain": [
       "(1031136, 10)"
      ]
     },
     "execution_count": 24,
     "metadata": {},
     "output_type": "execute_result"
    }
   ],
   "source": [
    "ratings_with_books = ratings.merge(books,on='ISBN')\n",
    "ratings_with_books.shape"
   ]
  },
  {
   "cell_type": "code",
   "execution_count": 25,
   "id": "1adf4a49",
   "metadata": {
    "execution": {
     "iopub.execute_input": "2024-09-10T11:09:47.544615Z",
     "iopub.status.busy": "2024-09-10T11:09:47.543685Z",
     "iopub.status.idle": "2024-09-10T11:09:48.301249Z",
     "shell.execute_reply": "2024-09-10T11:09:48.300233Z"
    },
    "papermill": {
     "duration": 0.775741,
     "end_time": "2024-09-10T11:09:48.303519",
     "exception": false,
     "start_time": "2024-09-10T11:09:47.527778",
     "status": "completed"
    },
    "tags": []
   },
   "outputs": [
    {
     "data": {
      "text/html": [
       "<div>\n",
       "<style scoped>\n",
       "    .dataframe tbody tr th:only-of-type {\n",
       "        vertical-align: middle;\n",
       "    }\n",
       "\n",
       "    .dataframe tbody tr th {\n",
       "        vertical-align: top;\n",
       "    }\n",
       "\n",
       "    .dataframe thead th {\n",
       "        text-align: right;\n",
       "    }\n",
       "</style>\n",
       "<table border=\"1\" class=\"dataframe\">\n",
       "  <thead>\n",
       "    <tr style=\"text-align: right;\">\n",
       "      <th></th>\n",
       "      <th>Title</th>\n",
       "      <th>Number_of_Ratings</th>\n",
       "    </tr>\n",
       "  </thead>\n",
       "  <tbody>\n",
       "    <tr>\n",
       "      <th>0</th>\n",
       "      <td>A Light in the Storm: The Civil War Diary of ...</td>\n",
       "      <td>4</td>\n",
       "    </tr>\n",
       "    <tr>\n",
       "      <th>1</th>\n",
       "      <td>Always Have Popsicles</td>\n",
       "      <td>1</td>\n",
       "    </tr>\n",
       "    <tr>\n",
       "      <th>2</th>\n",
       "      <td>Apple Magic (The Collector's series)</td>\n",
       "      <td>1</td>\n",
       "    </tr>\n",
       "    <tr>\n",
       "      <th>3</th>\n",
       "      <td>Ask Lily (Young Women of Faith: Lily Series, ...</td>\n",
       "      <td>1</td>\n",
       "    </tr>\n",
       "    <tr>\n",
       "      <th>4</th>\n",
       "      <td>Beyond IBM: Leadership Marketing and Finance ...</td>\n",
       "      <td>1</td>\n",
       "    </tr>\n",
       "    <tr>\n",
       "      <th>...</th>\n",
       "      <td>...</td>\n",
       "      <td>...</td>\n",
       "    </tr>\n",
       "    <tr>\n",
       "      <th>241066</th>\n",
       "      <td>Ã?Â?lpiraten.</td>\n",
       "      <td>2</td>\n",
       "    </tr>\n",
       "    <tr>\n",
       "      <th>241067</th>\n",
       "      <td>Ã?Â?rger mit Produkt X. Roman.</td>\n",
       "      <td>4</td>\n",
       "    </tr>\n",
       "    <tr>\n",
       "      <th>241068</th>\n",
       "      <td>Ã?Â?sterlich leben.</td>\n",
       "      <td>1</td>\n",
       "    </tr>\n",
       "    <tr>\n",
       "      <th>241069</th>\n",
       "      <td>Ã?Â?stlich der Berge.</td>\n",
       "      <td>3</td>\n",
       "    </tr>\n",
       "    <tr>\n",
       "      <th>241070</th>\n",
       "      <td>Ã?Â?thique en toc</td>\n",
       "      <td>2</td>\n",
       "    </tr>\n",
       "  </tbody>\n",
       "</table>\n",
       "<p>241071 rows × 2 columns</p>\n",
       "</div>"
      ],
      "text/plain": [
       "                                                    Title  Number_of_Ratings\n",
       "0        A Light in the Storm: The Civil War Diary of ...                  4\n",
       "1                                   Always Have Popsicles                  1\n",
       "2                    Apple Magic (The Collector's series)                  1\n",
       "3        Ask Lily (Young Women of Faith: Lily Series, ...                  1\n",
       "4        Beyond IBM: Leadership Marketing and Finance ...                  1\n",
       "...                                                   ...                ...\n",
       "241066                                      Ã?Â?lpiraten.                  2\n",
       "241067                     Ã?Â?rger mit Produkt X. Roman.                  4\n",
       "241068                                Ã?Â?sterlich leben.                  1\n",
       "241069                              Ã?Â?stlich der Berge.                  3\n",
       "241070                                  Ã?Â?thique en toc                  2\n",
       "\n",
       "[241071 rows x 2 columns]"
      ]
     },
     "execution_count": 25,
     "metadata": {},
     "output_type": "execute_result"
    }
   ],
   "source": [
    "num = ratings_with_books.groupby('Title')['Rating'].count().reset_index().rename(columns={'Rating':'Number_of_Ratings'})\n",
    "num"
   ]
  },
  {
   "cell_type": "code",
   "execution_count": 26,
   "id": "06399195",
   "metadata": {
    "execution": {
     "iopub.execute_input": "2024-09-10T11:09:48.385616Z",
     "iopub.status.busy": "2024-09-10T11:09:48.385211Z",
     "iopub.status.idle": "2024-09-10T11:09:49.173587Z",
     "shell.execute_reply": "2024-09-10T11:09:49.172571Z"
    },
    "papermill": {
     "duration": 0.808072,
     "end_time": "2024-09-10T11:09:49.176343",
     "exception": false,
     "start_time": "2024-09-10T11:09:48.368271",
     "status": "completed"
    },
    "tags": []
   },
   "outputs": [
    {
     "data": {
      "text/html": [
       "<div>\n",
       "<style scoped>\n",
       "    .dataframe tbody tr th:only-of-type {\n",
       "        vertical-align: middle;\n",
       "    }\n",
       "\n",
       "    .dataframe tbody tr th {\n",
       "        vertical-align: top;\n",
       "    }\n",
       "\n",
       "    .dataframe thead th {\n",
       "        text-align: right;\n",
       "    }\n",
       "</style>\n",
       "<table border=\"1\" class=\"dataframe\">\n",
       "  <thead>\n",
       "    <tr style=\"text-align: right;\">\n",
       "      <th></th>\n",
       "      <th>Title</th>\n",
       "      <th>Average_Rating</th>\n",
       "    </tr>\n",
       "  </thead>\n",
       "  <tbody>\n",
       "    <tr>\n",
       "      <th>0</th>\n",
       "      <td>A Light in the Storm: The Civil War Diary of ...</td>\n",
       "      <td>2.250000</td>\n",
       "    </tr>\n",
       "    <tr>\n",
       "      <th>1</th>\n",
       "      <td>Always Have Popsicles</td>\n",
       "      <td>0.000000</td>\n",
       "    </tr>\n",
       "    <tr>\n",
       "      <th>2</th>\n",
       "      <td>Apple Magic (The Collector's series)</td>\n",
       "      <td>0.000000</td>\n",
       "    </tr>\n",
       "    <tr>\n",
       "      <th>3</th>\n",
       "      <td>Ask Lily (Young Women of Faith: Lily Series, ...</td>\n",
       "      <td>8.000000</td>\n",
       "    </tr>\n",
       "    <tr>\n",
       "      <th>4</th>\n",
       "      <td>Beyond IBM: Leadership Marketing and Finance ...</td>\n",
       "      <td>0.000000</td>\n",
       "    </tr>\n",
       "    <tr>\n",
       "      <th>...</th>\n",
       "      <td>...</td>\n",
       "      <td>...</td>\n",
       "    </tr>\n",
       "    <tr>\n",
       "      <th>241066</th>\n",
       "      <td>Ã?Â?lpiraten.</td>\n",
       "      <td>0.000000</td>\n",
       "    </tr>\n",
       "    <tr>\n",
       "      <th>241067</th>\n",
       "      <td>Ã?Â?rger mit Produkt X. Roman.</td>\n",
       "      <td>5.250000</td>\n",
       "    </tr>\n",
       "    <tr>\n",
       "      <th>241068</th>\n",
       "      <td>Ã?Â?sterlich leben.</td>\n",
       "      <td>7.000000</td>\n",
       "    </tr>\n",
       "    <tr>\n",
       "      <th>241069</th>\n",
       "      <td>Ã?Â?stlich der Berge.</td>\n",
       "      <td>2.666667</td>\n",
       "    </tr>\n",
       "    <tr>\n",
       "      <th>241070</th>\n",
       "      <td>Ã?Â?thique en toc</td>\n",
       "      <td>4.000000</td>\n",
       "    </tr>\n",
       "  </tbody>\n",
       "</table>\n",
       "<p>241071 rows × 2 columns</p>\n",
       "</div>"
      ],
      "text/plain": [
       "                                                    Title  Average_Rating\n",
       "0        A Light in the Storm: The Civil War Diary of ...        2.250000\n",
       "1                                   Always Have Popsicles        0.000000\n",
       "2                    Apple Magic (The Collector's series)        0.000000\n",
       "3        Ask Lily (Young Women of Faith: Lily Series, ...        8.000000\n",
       "4        Beyond IBM: Leadership Marketing and Finance ...        0.000000\n",
       "...                                                   ...             ...\n",
       "241066                                      Ã?Â?lpiraten.        0.000000\n",
       "241067                     Ã?Â?rger mit Produkt X. Roman.        5.250000\n",
       "241068                                Ã?Â?sterlich leben.        7.000000\n",
       "241069                              Ã?Â?stlich der Berge.        2.666667\n",
       "241070                                  Ã?Â?thique en toc        4.000000\n",
       "\n",
       "[241071 rows x 2 columns]"
      ]
     },
     "execution_count": 26,
     "metadata": {},
     "output_type": "execute_result"
    }
   ],
   "source": [
    "avg = ratings_with_books.groupby('Title')['Rating'].mean().reset_index().rename(columns={'Rating':'Average_Rating'})\n",
    "avg"
   ]
  },
  {
   "cell_type": "code",
   "execution_count": 27,
   "id": "e795f0fc",
   "metadata": {
    "execution": {
     "iopub.execute_input": "2024-09-10T11:09:49.209579Z",
     "iopub.status.busy": "2024-09-10T11:09:49.209184Z",
     "iopub.status.idle": "2024-09-10T11:09:49.350625Z",
     "shell.execute_reply": "2024-09-10T11:09:49.349532Z"
    },
    "papermill": {
     "duration": 0.160426,
     "end_time": "2024-09-10T11:09:49.353042",
     "exception": false,
     "start_time": "2024-09-10T11:09:49.192616",
     "status": "completed"
    },
    "tags": []
   },
   "outputs": [
    {
     "data": {
      "text/html": [
       "<div>\n",
       "<style scoped>\n",
       "    .dataframe tbody tr th:only-of-type {\n",
       "        vertical-align: middle;\n",
       "    }\n",
       "\n",
       "    .dataframe tbody tr th {\n",
       "        vertical-align: top;\n",
       "    }\n",
       "\n",
       "    .dataframe thead th {\n",
       "        text-align: right;\n",
       "    }\n",
       "</style>\n",
       "<table border=\"1\" class=\"dataframe\">\n",
       "  <thead>\n",
       "    <tr style=\"text-align: right;\">\n",
       "      <th></th>\n",
       "      <th>Title</th>\n",
       "      <th>Number_of_Ratings</th>\n",
       "      <th>Average_Rating</th>\n",
       "    </tr>\n",
       "  </thead>\n",
       "  <tbody>\n",
       "    <tr>\n",
       "      <th>2110</th>\n",
       "      <td>A Caress of Twilight (Meredith Gentry, 2)</td>\n",
       "      <td>1</td>\n",
       "      <td>8.0</td>\n",
       "    </tr>\n",
       "    <tr>\n",
       "      <th>196526</th>\n",
       "      <td>The Mad King: The Life and Times of Ludwig II ...</td>\n",
       "      <td>1</td>\n",
       "      <td>0.0</td>\n",
       "    </tr>\n",
       "    <tr>\n",
       "      <th>28119</th>\n",
       "      <td>Brit-Think, Ameri-Think</td>\n",
       "      <td>2</td>\n",
       "      <td>0.0</td>\n",
       "    </tr>\n",
       "    <tr>\n",
       "      <th>23033</th>\n",
       "      <td>Beware of the Dog: A Cliff Hardy Novel</td>\n",
       "      <td>1</td>\n",
       "      <td>0.0</td>\n",
       "    </tr>\n",
       "    <tr>\n",
       "      <th>102765</th>\n",
       "      <td>La lirica: [romanzo] (Collana La salamandra)</td>\n",
       "      <td>1</td>\n",
       "      <td>0.0</td>\n",
       "    </tr>\n",
       "  </tbody>\n",
       "</table>\n",
       "</div>"
      ],
      "text/plain": [
       "                                                    Title  Number_of_Ratings  \\\n",
       "2110            A Caress of Twilight (Meredith Gentry, 2)                  1   \n",
       "196526  The Mad King: The Life and Times of Ludwig II ...                  1   \n",
       "28119                             Brit-Think, Ameri-Think                  2   \n",
       "23033              Beware of the Dog: A Cliff Hardy Novel                  1   \n",
       "102765       La lirica: [romanzo] (Collana La salamandra)                  1   \n",
       "\n",
       "        Average_Rating  \n",
       "2110               8.0  \n",
       "196526             0.0  \n",
       "28119              0.0  \n",
       "23033              0.0  \n",
       "102765             0.0  "
      ]
     },
     "execution_count": 27,
     "metadata": {},
     "output_type": "execute_result"
    }
   ],
   "source": [
    "Popularity_df = num.merge(avg,on='Title')\n",
    "Popularity_df.sample(5)"
   ]
  },
  {
   "cell_type": "code",
   "execution_count": 28,
   "id": "f99ac1dc",
   "metadata": {
    "execution": {
     "iopub.execute_input": "2024-09-10T11:09:49.386267Z",
     "iopub.status.busy": "2024-09-10T11:09:49.385749Z",
     "iopub.status.idle": "2024-09-10T11:09:49.404020Z",
     "shell.execute_reply": "2024-09-10T11:09:49.402944Z"
    },
    "papermill": {
     "duration": 0.037696,
     "end_time": "2024-09-10T11:09:49.406347",
     "exception": false,
     "start_time": "2024-09-10T11:09:49.368651",
     "status": "completed"
    },
    "tags": []
   },
   "outputs": [
    {
     "data": {
      "text/html": [
       "<div>\n",
       "<style scoped>\n",
       "    .dataframe tbody tr th:only-of-type {\n",
       "        vertical-align: middle;\n",
       "    }\n",
       "\n",
       "    .dataframe tbody tr th {\n",
       "        vertical-align: top;\n",
       "    }\n",
       "\n",
       "    .dataframe thead th {\n",
       "        text-align: right;\n",
       "    }\n",
       "</style>\n",
       "<table border=\"1\" class=\"dataframe\">\n",
       "  <thead>\n",
       "    <tr style=\"text-align: right;\">\n",
       "      <th></th>\n",
       "      <th>Title</th>\n",
       "      <th>Number_of_Ratings</th>\n",
       "      <th>Average_Rating</th>\n",
       "    </tr>\n",
       "  </thead>\n",
       "  <tbody>\n",
       "    <tr>\n",
       "      <th>80434</th>\n",
       "      <td>Harry Potter and the Prisoner of Azkaban (Book 3)</td>\n",
       "      <td>428</td>\n",
       "      <td>5.852804</td>\n",
       "    </tr>\n",
       "    <tr>\n",
       "      <th>80422</th>\n",
       "      <td>Harry Potter and the Goblet of Fire (Book 4)</td>\n",
       "      <td>387</td>\n",
       "      <td>5.824289</td>\n",
       "    </tr>\n",
       "    <tr>\n",
       "      <th>80441</th>\n",
       "      <td>Harry Potter and the Sorcerer's Stone (Book 1)</td>\n",
       "      <td>278</td>\n",
       "      <td>5.737410</td>\n",
       "    </tr>\n",
       "    <tr>\n",
       "      <th>80426</th>\n",
       "      <td>Harry Potter and the Order of the Phoenix (Boo...</td>\n",
       "      <td>347</td>\n",
       "      <td>5.501441</td>\n",
       "    </tr>\n",
       "    <tr>\n",
       "      <th>80414</th>\n",
       "      <td>Harry Potter and the Chamber of Secrets (Book 2)</td>\n",
       "      <td>556</td>\n",
       "      <td>5.183453</td>\n",
       "    </tr>\n",
       "  </tbody>\n",
       "</table>\n",
       "</div>"
      ],
      "text/plain": [
       "                                                   Title  Number_of_Ratings  \\\n",
       "80434  Harry Potter and the Prisoner of Azkaban (Book 3)                428   \n",
       "80422       Harry Potter and the Goblet of Fire (Book 4)                387   \n",
       "80441     Harry Potter and the Sorcerer's Stone (Book 1)                278   \n",
       "80426  Harry Potter and the Order of the Phoenix (Boo...                347   \n",
       "80414   Harry Potter and the Chamber of Secrets (Book 2)                556   \n",
       "\n",
       "       Average_Rating  \n",
       "80434        5.852804  \n",
       "80422        5.824289  \n",
       "80441        5.737410  \n",
       "80426        5.501441  \n",
       "80414        5.183453  "
      ]
     },
     "execution_count": 28,
     "metadata": {},
     "output_type": "execute_result"
    }
   ],
   "source": [
    "Popularity_df = Popularity_df[Popularity_df['Number_of_Ratings']>250].sort_values('Average_Rating',ascending=False).head(50)\n",
    "Popularity_df.head(5)"
   ]
  },
  {
   "cell_type": "code",
   "execution_count": 29,
   "id": "7dc38363",
   "metadata": {
    "execution": {
     "iopub.execute_input": "2024-09-10T11:09:49.440225Z",
     "iopub.status.busy": "2024-09-10T11:09:49.439535Z",
     "iopub.status.idle": "2024-09-10T11:09:49.526386Z",
     "shell.execute_reply": "2024-09-10T11:09:49.525314Z"
    },
    "papermill": {
     "duration": 0.106256,
     "end_time": "2024-09-10T11:09:49.528669",
     "exception": false,
     "start_time": "2024-09-10T11:09:49.422413",
     "status": "completed"
    },
    "tags": []
   },
   "outputs": [],
   "source": [
    "books1 = books.drop_duplicates('Title')"
   ]
  },
  {
   "cell_type": "code",
   "execution_count": 30,
   "id": "bfafdc59",
   "metadata": {
    "execution": {
     "iopub.execute_input": "2024-09-10T11:09:49.562386Z",
     "iopub.status.busy": "2024-09-10T11:09:49.561542Z",
     "iopub.status.idle": "2024-09-10T11:09:49.673899Z",
     "shell.execute_reply": "2024-09-10T11:09:49.672647Z"
    },
    "papermill": {
     "duration": 0.132209,
     "end_time": "2024-09-10T11:09:49.676562",
     "exception": false,
     "start_time": "2024-09-10T11:09:49.544353",
     "status": "completed"
    },
    "tags": []
   },
   "outputs": [],
   "source": [
    "df = Popularity_df.merge(books1,on='Title')"
   ]
  },
  {
   "cell_type": "code",
   "execution_count": 31,
   "id": "439b3b88",
   "metadata": {
    "execution": {
     "iopub.execute_input": "2024-09-10T11:09:49.709891Z",
     "iopub.status.busy": "2024-09-10T11:09:49.709115Z",
     "iopub.status.idle": "2024-09-10T11:09:49.715711Z",
     "shell.execute_reply": "2024-09-10T11:09:49.714696Z"
    },
    "papermill": {
     "duration": 0.025665,
     "end_time": "2024-09-10T11:09:49.717861",
     "exception": false,
     "start_time": "2024-09-10T11:09:49.692196",
     "status": "completed"
    },
    "tags": []
   },
   "outputs": [
    {
     "data": {
      "text/plain": [
       "(50, 10)"
      ]
     },
     "execution_count": 31,
     "metadata": {},
     "output_type": "execute_result"
    }
   ],
   "source": [
    "df.shape"
   ]
  },
  {
   "cell_type": "code",
   "execution_count": 32,
   "id": "a752a1d9",
   "metadata": {
    "execution": {
     "iopub.execute_input": "2024-09-10T11:09:49.751016Z",
     "iopub.status.busy": "2024-09-10T11:09:49.750611Z",
     "iopub.status.idle": "2024-09-10T11:09:49.756746Z",
     "shell.execute_reply": "2024-09-10T11:09:49.755726Z"
    },
    "papermill": {
     "duration": 0.025327,
     "end_time": "2024-09-10T11:09:49.758941",
     "exception": false,
     "start_time": "2024-09-10T11:09:49.733614",
     "status": "completed"
    },
    "tags": []
   },
   "outputs": [],
   "source": [
    "Popularity_Final = df[['ISBN','Title','Author','Publication_Year','Publisher','Image-URL-L','Number_of_Ratings', 'Average_Rating']]"
   ]
  },
  {
   "cell_type": "markdown",
   "id": "5d6668ef",
   "metadata": {
    "papermill": {
     "duration": 0.015384,
     "end_time": "2024-09-10T11:09:49.790062",
     "exception": false,
     "start_time": "2024-09-10T11:09:49.774678",
     "status": "completed"
    },
    "tags": []
   },
   "source": [
    "### Top 50 Popular Books"
   ]
  },
  {
   "cell_type": "code",
   "execution_count": 33,
   "id": "25181818",
   "metadata": {
    "execution": {
     "iopub.execute_input": "2024-09-10T11:09:49.823927Z",
     "iopub.status.busy": "2024-09-10T11:09:49.822801Z",
     "iopub.status.idle": "2024-09-10T11:09:49.844298Z",
     "shell.execute_reply": "2024-09-10T11:09:49.843275Z"
    },
    "papermill": {
     "duration": 0.040473,
     "end_time": "2024-09-10T11:09:49.846367",
     "exception": false,
     "start_time": "2024-09-10T11:09:49.805894",
     "status": "completed"
    },
    "tags": []
   },
   "outputs": [
    {
     "data": {
      "text/html": [
       "<div>\n",
       "<style scoped>\n",
       "    .dataframe tbody tr th:only-of-type {\n",
       "        vertical-align: middle;\n",
       "    }\n",
       "\n",
       "    .dataframe tbody tr th {\n",
       "        vertical-align: top;\n",
       "    }\n",
       "\n",
       "    .dataframe thead th {\n",
       "        text-align: right;\n",
       "    }\n",
       "</style>\n",
       "<table border=\"1\" class=\"dataframe\">\n",
       "  <thead>\n",
       "    <tr style=\"text-align: right;\">\n",
       "      <th></th>\n",
       "      <th>ISBN</th>\n",
       "      <th>Title</th>\n",
       "      <th>Author</th>\n",
       "      <th>Publication_Year</th>\n",
       "      <th>Publisher</th>\n",
       "      <th>Image-URL-L</th>\n",
       "      <th>Number_of_Ratings</th>\n",
       "      <th>Average_Rating</th>\n",
       "    </tr>\n",
       "  </thead>\n",
       "  <tbody>\n",
       "    <tr>\n",
       "      <th>0</th>\n",
       "      <td>0439136350</td>\n",
       "      <td>Harry Potter and the Prisoner of Azkaban (Book 3)</td>\n",
       "      <td>J. K. Rowling</td>\n",
       "      <td>1999</td>\n",
       "      <td>Scholastic</td>\n",
       "      <td>https://images.amazon.com/images/P/0439136350....</td>\n",
       "      <td>428</td>\n",
       "      <td>5.852804</td>\n",
       "    </tr>\n",
       "    <tr>\n",
       "      <th>1</th>\n",
       "      <td>0439139597</td>\n",
       "      <td>Harry Potter and the Goblet of Fire (Book 4)</td>\n",
       "      <td>J. K. Rowling</td>\n",
       "      <td>2000</td>\n",
       "      <td>Scholastic</td>\n",
       "      <td>https://images.amazon.com/images/P/0439139597....</td>\n",
       "      <td>387</td>\n",
       "      <td>5.824289</td>\n",
       "    </tr>\n",
       "    <tr>\n",
       "      <th>2</th>\n",
       "      <td>0590353403</td>\n",
       "      <td>Harry Potter and the Sorcerer's Stone (Book 1)</td>\n",
       "      <td>J. K. Rowling</td>\n",
       "      <td>1998</td>\n",
       "      <td>Scholastic</td>\n",
       "      <td>https://images.amazon.com/images/P/0590353403....</td>\n",
       "      <td>278</td>\n",
       "      <td>5.737410</td>\n",
       "    </tr>\n",
       "    <tr>\n",
       "      <th>3</th>\n",
       "      <td>043935806X</td>\n",
       "      <td>Harry Potter and the Order of the Phoenix (Boo...</td>\n",
       "      <td>J. K. Rowling</td>\n",
       "      <td>2003</td>\n",
       "      <td>Scholastic</td>\n",
       "      <td>https://images.amazon.com/images/P/043935806X....</td>\n",
       "      <td>347</td>\n",
       "      <td>5.501441</td>\n",
       "    </tr>\n",
       "    <tr>\n",
       "      <th>4</th>\n",
       "      <td>0439064872</td>\n",
       "      <td>Harry Potter and the Chamber of Secrets (Book 2)</td>\n",
       "      <td>J. K. Rowling</td>\n",
       "      <td>2000</td>\n",
       "      <td>Scholastic</td>\n",
       "      <td>https://images.amazon.com/images/P/0439064872....</td>\n",
       "      <td>556</td>\n",
       "      <td>5.183453</td>\n",
       "    </tr>\n",
       "    <tr>\n",
       "      <th>5</th>\n",
       "      <td>0345339681</td>\n",
       "      <td>The Hobbit : The Enchanting Prelude to The Lor...</td>\n",
       "      <td>J.R.R. TOLKIEN</td>\n",
       "      <td>1986</td>\n",
       "      <td>Del Rey</td>\n",
       "      <td>https://images.amazon.com/images/P/0345339681....</td>\n",
       "      <td>281</td>\n",
       "      <td>5.007117</td>\n",
       "    </tr>\n",
       "    <tr>\n",
       "      <th>6</th>\n",
       "      <td>0345339703</td>\n",
       "      <td>The Fellowship of the Ring (The Lord of the Ri...</td>\n",
       "      <td>J.R.R. TOLKIEN</td>\n",
       "      <td>1986</td>\n",
       "      <td>Del Rey</td>\n",
       "      <td>https://images.amazon.com/images/P/0345339703....</td>\n",
       "      <td>368</td>\n",
       "      <td>4.948370</td>\n",
       "    </tr>\n",
       "    <tr>\n",
       "      <th>7</th>\n",
       "      <td>059035342X</td>\n",
       "      <td>Harry Potter and the Sorcerer's Stone (Harry P...</td>\n",
       "      <td>J. K. Rowling</td>\n",
       "      <td>1999</td>\n",
       "      <td>Arthur A. Levine Books</td>\n",
       "      <td>https://images.amazon.com/images/P/059035342X....</td>\n",
       "      <td>575</td>\n",
       "      <td>4.895652</td>\n",
       "    </tr>\n",
       "    <tr>\n",
       "      <th>8</th>\n",
       "      <td>0345339711</td>\n",
       "      <td>The Two Towers (The Lord of the Rings, Part 2)</td>\n",
       "      <td>J.R.R. TOLKIEN</td>\n",
       "      <td>1986</td>\n",
       "      <td>Del Rey</td>\n",
       "      <td>https://images.amazon.com/images/P/0345339711....</td>\n",
       "      <td>260</td>\n",
       "      <td>4.880769</td>\n",
       "    </tr>\n",
       "    <tr>\n",
       "      <th>9</th>\n",
       "      <td>0446310786</td>\n",
       "      <td>To Kill a Mockingbird</td>\n",
       "      <td>Harper Lee</td>\n",
       "      <td>1988</td>\n",
       "      <td>Little Brown &amp;amp; Company</td>\n",
       "      <td>https://images.amazon.com/images/P/0446310786....</td>\n",
       "      <td>510</td>\n",
       "      <td>4.700000</td>\n",
       "    </tr>\n",
       "    <tr>\n",
       "      <th>10</th>\n",
       "      <td>0385504209</td>\n",
       "      <td>The Da Vinci Code</td>\n",
       "      <td>Dan Brown</td>\n",
       "      <td>2003</td>\n",
       "      <td>Doubleday</td>\n",
       "      <td>https://images.amazon.com/images/P/0385504209....</td>\n",
       "      <td>898</td>\n",
       "      <td>4.642539</td>\n",
       "    </tr>\n",
       "    <tr>\n",
       "      <th>11</th>\n",
       "      <td>0786868716</td>\n",
       "      <td>The Five People You Meet in Heaven</td>\n",
       "      <td>Mitch Albom</td>\n",
       "      <td>2003</td>\n",
       "      <td>Hyperion</td>\n",
       "      <td>https://images.amazon.com/images/P/0786868716....</td>\n",
       "      <td>430</td>\n",
       "      <td>4.551163</td>\n",
       "    </tr>\n",
       "    <tr>\n",
       "      <th>12</th>\n",
       "      <td>0316769487</td>\n",
       "      <td>The Catcher in the Rye</td>\n",
       "      <td>J.D. Salinger</td>\n",
       "      <td>1991</td>\n",
       "      <td>Little, Brown</td>\n",
       "      <td>https://images.amazon.com/images/P/0316769487....</td>\n",
       "      <td>449</td>\n",
       "      <td>4.545657</td>\n",
       "    </tr>\n",
       "    <tr>\n",
       "      <th>13</th>\n",
       "      <td>0316666343</td>\n",
       "      <td>The Lovely Bones: A Novel</td>\n",
       "      <td>Alice Sebold</td>\n",
       "      <td>2002</td>\n",
       "      <td>Little, Brown</td>\n",
       "      <td>https://images.amazon.com/images/P/0316666343....</td>\n",
       "      <td>1295</td>\n",
       "      <td>4.468726</td>\n",
       "    </tr>\n",
       "    <tr>\n",
       "      <th>14</th>\n",
       "      <td>0451524934</td>\n",
       "      <td>1984</td>\n",
       "      <td>George Orwell</td>\n",
       "      <td>1990</td>\n",
       "      <td>Signet Book</td>\n",
       "      <td>https://images.amazon.com/images/P/0451524934....</td>\n",
       "      <td>284</td>\n",
       "      <td>4.454225</td>\n",
       "    </tr>\n",
       "    <tr>\n",
       "      <th>15</th>\n",
       "      <td>0060959037</td>\n",
       "      <td>Prodigal Summer: A Novel</td>\n",
       "      <td>Barbara Kingsolver</td>\n",
       "      <td>2001</td>\n",
       "      <td>Perennial</td>\n",
       "      <td>https://images.amazon.com/images/P/0060959037....</td>\n",
       "      <td>253</td>\n",
       "      <td>4.450593</td>\n",
       "    </tr>\n",
       "    <tr>\n",
       "      <th>16</th>\n",
       "      <td>0380789019</td>\n",
       "      <td>Neverwhere</td>\n",
       "      <td>Neil Gaiman</td>\n",
       "      <td>1998</td>\n",
       "      <td>Avon</td>\n",
       "      <td>https://images.amazon.com/images/P/0380789019....</td>\n",
       "      <td>265</td>\n",
       "      <td>4.449057</td>\n",
       "    </tr>\n",
       "    <tr>\n",
       "      <th>17</th>\n",
       "      <td>0142001740</td>\n",
       "      <td>The Secret Life of Bees</td>\n",
       "      <td>Sue Monk Kidd</td>\n",
       "      <td>2003</td>\n",
       "      <td>Penguin Books</td>\n",
       "      <td>https://images.amazon.com/images/P/0142001740....</td>\n",
       "      <td>774</td>\n",
       "      <td>4.447028</td>\n",
       "    </tr>\n",
       "    <tr>\n",
       "      <th>18</th>\n",
       "      <td>0060392452</td>\n",
       "      <td>Stupid White Men ...and Other Sorry Excuses fo...</td>\n",
       "      <td>Michael Moore</td>\n",
       "      <td>2002</td>\n",
       "      <td>Regan Books</td>\n",
       "      <td>https://images.amazon.com/images/P/0060392452....</td>\n",
       "      <td>283</td>\n",
       "      <td>4.356890</td>\n",
       "    </tr>\n",
       "    <tr>\n",
       "      <th>19</th>\n",
       "      <td>0385484518</td>\n",
       "      <td>Tuesdays with Morrie: An Old Man, a Young Man,...</td>\n",
       "      <td>MITCH ALBOM</td>\n",
       "      <td>1997</td>\n",
       "      <td>Doubleday</td>\n",
       "      <td>https://images.amazon.com/images/P/0385484518....</td>\n",
       "      <td>493</td>\n",
       "      <td>4.354970</td>\n",
       "    </tr>\n",
       "    <tr>\n",
       "      <th>20</th>\n",
       "      <td>0312195516</td>\n",
       "      <td>The Red Tent (Bestselling Backlist)</td>\n",
       "      <td>Anita Diamant</td>\n",
       "      <td>1998</td>\n",
       "      <td>Picador USA</td>\n",
       "      <td>https://images.amazon.com/images/P/0312195516....</td>\n",
       "      <td>723</td>\n",
       "      <td>4.334716</td>\n",
       "    </tr>\n",
       "    <tr>\n",
       "      <th>21</th>\n",
       "      <td>0671461494</td>\n",
       "      <td>The Hitchhiker's Guide to the Galaxy</td>\n",
       "      <td>Douglas Adams</td>\n",
       "      <td>1982</td>\n",
       "      <td>Pocket</td>\n",
       "      <td>https://images.amazon.com/images/P/0671461494....</td>\n",
       "      <td>268</td>\n",
       "      <td>4.328358</td>\n",
       "    </tr>\n",
       "    <tr>\n",
       "      <th>22</th>\n",
       "      <td>0805063897</td>\n",
       "      <td>Nickel and Dimed: On (Not) Getting By in America</td>\n",
       "      <td>Barbara Ehrenreich</td>\n",
       "      <td>2002</td>\n",
       "      <td>Owl Books</td>\n",
       "      <td>https://images.amazon.com/images/P/0805063897....</td>\n",
       "      <td>335</td>\n",
       "      <td>4.289552</td>\n",
       "    </tr>\n",
       "    <tr>\n",
       "      <th>23</th>\n",
       "      <td>0385486804</td>\n",
       "      <td>Into the Wild</td>\n",
       "      <td>Jon Krakauer</td>\n",
       "      <td>1997</td>\n",
       "      <td>Anchor</td>\n",
       "      <td>https://images.amazon.com/images/P/0385486804....</td>\n",
       "      <td>252</td>\n",
       "      <td>4.273810</td>\n",
       "    </tr>\n",
       "    <tr>\n",
       "      <th>24</th>\n",
       "      <td>3257208626</td>\n",
       "      <td>Fahrenheit 451</td>\n",
       "      <td>Ray Bradbury</td>\n",
       "      <td>1994</td>\n",
       "      <td>Distribooks Inc</td>\n",
       "      <td>https://images.amazon.com/images/P/3257208626....</td>\n",
       "      <td>409</td>\n",
       "      <td>4.264059</td>\n",
       "    </tr>\n",
       "    <tr>\n",
       "      <th>25</th>\n",
       "      <td>0452282152</td>\n",
       "      <td>Girl with a Pearl Earring</td>\n",
       "      <td>Tracy Chevalier</td>\n",
       "      <td>2001</td>\n",
       "      <td>Plume Books</td>\n",
       "      <td>https://images.amazon.com/images/P/0452282152....</td>\n",
       "      <td>526</td>\n",
       "      <td>4.218631</td>\n",
       "    </tr>\n",
       "    <tr>\n",
       "      <th>26</th>\n",
       "      <td>0440222915</td>\n",
       "      <td>Outlander</td>\n",
       "      <td>DIANA GABALDON</td>\n",
       "      <td>1996</td>\n",
       "      <td>Dell</td>\n",
       "      <td>https://images.amazon.com/images/P/0440222915....</td>\n",
       "      <td>283</td>\n",
       "      <td>4.173145</td>\n",
       "    </tr>\n",
       "    <tr>\n",
       "      <th>27</th>\n",
       "      <td>0446672211</td>\n",
       "      <td>Where the Heart Is (Oprah's Book Club (Paperba...</td>\n",
       "      <td>Billie Letts</td>\n",
       "      <td>1998</td>\n",
       "      <td>Warner Books</td>\n",
       "      <td>https://images.amazon.com/images/P/0446672211....</td>\n",
       "      <td>585</td>\n",
       "      <td>4.105983</td>\n",
       "    </tr>\n",
       "    <tr>\n",
       "      <th>28</th>\n",
       "      <td>0449005615</td>\n",
       "      <td>Seabiscuit: An American Legend</td>\n",
       "      <td>LAURA HILLENBRAND</td>\n",
       "      <td>2002</td>\n",
       "      <td>Ballantine Books</td>\n",
       "      <td>https://images.amazon.com/images/P/0449005615....</td>\n",
       "      <td>275</td>\n",
       "      <td>4.098182</td>\n",
       "    </tr>\n",
       "    <tr>\n",
       "      <th>29</th>\n",
       "      <td>0151008116</td>\n",
       "      <td>Life of Pi</td>\n",
       "      <td>Yann Martel</td>\n",
       "      <td>2002</td>\n",
       "      <td>Harcourt</td>\n",
       "      <td>https://images.amazon.com/images/P/0151008116....</td>\n",
       "      <td>664</td>\n",
       "      <td>4.088855</td>\n",
       "    </tr>\n",
       "    <tr>\n",
       "      <th>30</th>\n",
       "      <td>0060915544</td>\n",
       "      <td>The Bean Trees</td>\n",
       "      <td>Barbara Kingsolver</td>\n",
       "      <td>1989</td>\n",
       "      <td>Perennial</td>\n",
       "      <td>https://images.amazon.com/images/P/0060915544....</td>\n",
       "      <td>389</td>\n",
       "      <td>4.087404</td>\n",
       "    </tr>\n",
       "    <tr>\n",
       "      <th>31</th>\n",
       "      <td>1558743669</td>\n",
       "      <td>A Child Called \\It\\\": One Child's Courage to S...</td>\n",
       "      <td>Dave Pelzer</td>\n",
       "      <td>1995</td>\n",
       "      <td>Health Communications</td>\n",
       "      <td>https://images.amazon.com/images/P/1558743669....</td>\n",
       "      <td>265</td>\n",
       "      <td>4.086792</td>\n",
       "    </tr>\n",
       "    <tr>\n",
       "      <th>32</th>\n",
       "      <td>0684874350</td>\n",
       "      <td>ANGELA'S ASHES</td>\n",
       "      <td>Frank McCourt</td>\n",
       "      <td>1996</td>\n",
       "      <td>Scribner</td>\n",
       "      <td>https://images.amazon.com/images/P/0684874350....</td>\n",
       "      <td>279</td>\n",
       "      <td>4.075269</td>\n",
       "    </tr>\n",
       "    <tr>\n",
       "      <th>33</th>\n",
       "      <td>0743418174</td>\n",
       "      <td>Good in Bed</td>\n",
       "      <td>Jennifer Weiner</td>\n",
       "      <td>2002</td>\n",
       "      <td>Washington Square Press</td>\n",
       "      <td>https://images.amazon.com/images/P/0743418174....</td>\n",
       "      <td>490</td>\n",
       "      <td>4.055102</td>\n",
       "    </tr>\n",
       "    <tr>\n",
       "      <th>34</th>\n",
       "      <td>0060938455</td>\n",
       "      <td>Fast Food Nation: The Dark Side of the All-Ame...</td>\n",
       "      <td>Eric Schlosser</td>\n",
       "      <td>2002</td>\n",
       "      <td>Perennial</td>\n",
       "      <td>https://images.amazon.com/images/P/0060938455....</td>\n",
       "      <td>321</td>\n",
       "      <td>4.037383</td>\n",
       "    </tr>\n",
       "    <tr>\n",
       "      <th>35</th>\n",
       "      <td>0380789035</td>\n",
       "      <td>American Gods</td>\n",
       "      <td>Neil Gaiman</td>\n",
       "      <td>2002</td>\n",
       "      <td>HarperTorch</td>\n",
       "      <td>https://images.amazon.com/images/P/0380789035....</td>\n",
       "      <td>302</td>\n",
       "      <td>4.006623</td>\n",
       "    </tr>\n",
       "    <tr>\n",
       "      <th>36</th>\n",
       "      <td>0385505833</td>\n",
       "      <td>Skipping Christmas</td>\n",
       "      <td>JOHN GRISHAM</td>\n",
       "      <td>2001</td>\n",
       "      <td>Doubleday</td>\n",
       "      <td>https://images.amazon.com/images/P/0385505833....</td>\n",
       "      <td>322</td>\n",
       "      <td>4.006211</td>\n",
       "    </tr>\n",
       "    <tr>\n",
       "      <th>37</th>\n",
       "      <td>0842329129</td>\n",
       "      <td>Left Behind: A Novel of the Earth's Last Days ...</td>\n",
       "      <td>Tim Lahaye</td>\n",
       "      <td>1996</td>\n",
       "      <td>Tyndale House Publishers</td>\n",
       "      <td>https://images.amazon.com/images/P/0842329129....</td>\n",
       "      <td>318</td>\n",
       "      <td>4.003145</td>\n",
       "    </tr>\n",
       "    <tr>\n",
       "      <th>38</th>\n",
       "      <td>037582345X</td>\n",
       "      <td>The Golden Compass (His Dark Materials, Book 1)</td>\n",
       "      <td>PHILIP PULLMAN</td>\n",
       "      <td>2002</td>\n",
       "      <td>Knopf Books for Young Readers</td>\n",
       "      <td>https://images.amazon.com/images/P/037582345X....</td>\n",
       "      <td>336</td>\n",
       "      <td>4.000000</td>\n",
       "    </tr>\n",
       "    <tr>\n",
       "      <th>39</th>\n",
       "      <td>0671617028</td>\n",
       "      <td>The Color Purple</td>\n",
       "      <td>Alice Walker</td>\n",
       "      <td>1985</td>\n",
       "      <td>Pocket Books</td>\n",
       "      <td>https://images.amazon.com/images/P/0671617028....</td>\n",
       "      <td>314</td>\n",
       "      <td>3.964968</td>\n",
       "    </tr>\n",
       "    <tr>\n",
       "      <th>40</th>\n",
       "      <td>0312924585</td>\n",
       "      <td>Silence of the Lambs</td>\n",
       "      <td>Thomas Harris</td>\n",
       "      <td>1991</td>\n",
       "      <td>St. Martin's Press</td>\n",
       "      <td>https://images.amazon.com/images/P/0312924585....</td>\n",
       "      <td>256</td>\n",
       "      <td>3.960938</td>\n",
       "    </tr>\n",
       "    <tr>\n",
       "      <th>41</th>\n",
       "      <td>1573227331</td>\n",
       "      <td>About a Boy</td>\n",
       "      <td>Nick Hornby</td>\n",
       "      <td>1999</td>\n",
       "      <td>Riverhead Books</td>\n",
       "      <td>https://images.amazon.com/images/P/1573227331....</td>\n",
       "      <td>262</td>\n",
       "      <td>3.900763</td>\n",
       "    </tr>\n",
       "    <tr>\n",
       "      <th>42</th>\n",
       "      <td>0312265840</td>\n",
       "      <td>Seven Up (A Stephanie Plum Novel)</td>\n",
       "      <td>Janet Evanovich</td>\n",
       "      <td>2001</td>\n",
       "      <td>St. Martin's Press</td>\n",
       "      <td>https://images.amazon.com/images/P/0312265840....</td>\n",
       "      <td>278</td>\n",
       "      <td>3.888489</td>\n",
       "    </tr>\n",
       "    <tr>\n",
       "      <th>43</th>\n",
       "      <td>0062502174</td>\n",
       "      <td>The Alchemist: A Fable About Following Your Dream</td>\n",
       "      <td>Paulo Coelho</td>\n",
       "      <td>1993</td>\n",
       "      <td>HarperSanFrancisco</td>\n",
       "      <td>https://images.amazon.com/images/P/0062502174....</td>\n",
       "      <td>266</td>\n",
       "      <td>3.875940</td>\n",
       "    </tr>\n",
       "    <tr>\n",
       "      <th>44</th>\n",
       "      <td>0312983867</td>\n",
       "      <td>Hard Eight : A Stephanie Plum Novel (A Stephan...</td>\n",
       "      <td>Janet Evanovich</td>\n",
       "      <td>2003</td>\n",
       "      <td>St. Martin's Paperbacks</td>\n",
       "      <td>https://images.amazon.com/images/P/0312983867....</td>\n",
       "      <td>269</td>\n",
       "      <td>3.825279</td>\n",
       "    </tr>\n",
       "    <tr>\n",
       "      <th>45</th>\n",
       "      <td>0316969443</td>\n",
       "      <td>Suzanne's Diary for Nicholas</td>\n",
       "      <td>James Patterson</td>\n",
       "      <td>2001</td>\n",
       "      <td>Little, Brown</td>\n",
       "      <td>https://images.amazon.com/images/P/0316969443....</td>\n",
       "      <td>457</td>\n",
       "      <td>3.820569</td>\n",
       "    </tr>\n",
       "    <tr>\n",
       "      <th>46</th>\n",
       "      <td>0399501487</td>\n",
       "      <td>Lord of the Flies</td>\n",
       "      <td>William Gerald Golding</td>\n",
       "      <td>1959</td>\n",
       "      <td>Perigee Trade</td>\n",
       "      <td>https://images.amazon.com/images/P/0399501487....</td>\n",
       "      <td>259</td>\n",
       "      <td>3.818533</td>\n",
       "    </tr>\n",
       "    <tr>\n",
       "      <th>47</th>\n",
       "      <td>0345361792</td>\n",
       "      <td>A Prayer for Owen Meany</td>\n",
       "      <td>John Irving</td>\n",
       "      <td>1990</td>\n",
       "      <td>Ballantine Books</td>\n",
       "      <td>https://images.amazon.com/images/P/0345361792....</td>\n",
       "      <td>413</td>\n",
       "      <td>3.796610</td>\n",
       "    </tr>\n",
       "    <tr>\n",
       "      <th>48</th>\n",
       "      <td>0345313860</td>\n",
       "      <td>The Vampire Lestat (Vampire Chronicles, Book II)</td>\n",
       "      <td>ANNE RICE</td>\n",
       "      <td>1986</td>\n",
       "      <td>Ballantine Books</td>\n",
       "      <td>https://images.amazon.com/images/P/0345313860....</td>\n",
       "      <td>301</td>\n",
       "      <td>3.777409</td>\n",
       "    </tr>\n",
       "    <tr>\n",
       "      <th>49</th>\n",
       "      <td>0316284955</td>\n",
       "      <td>White Oleander : A Novel (Oprah's Book Club)</td>\n",
       "      <td>Janet Fitch</td>\n",
       "      <td>2000</td>\n",
       "      <td>Back Bay Books</td>\n",
       "      <td>https://images.amazon.com/images/P/0316284955....</td>\n",
       "      <td>356</td>\n",
       "      <td>3.772472</td>\n",
       "    </tr>\n",
       "  </tbody>\n",
       "</table>\n",
       "</div>"
      ],
      "text/plain": [
       "          ISBN                                              Title  \\\n",
       "0   0439136350  Harry Potter and the Prisoner of Azkaban (Book 3)   \n",
       "1   0439139597       Harry Potter and the Goblet of Fire (Book 4)   \n",
       "2   0590353403     Harry Potter and the Sorcerer's Stone (Book 1)   \n",
       "3   043935806X  Harry Potter and the Order of the Phoenix (Boo...   \n",
       "4   0439064872   Harry Potter and the Chamber of Secrets (Book 2)   \n",
       "5   0345339681  The Hobbit : The Enchanting Prelude to The Lor...   \n",
       "6   0345339703  The Fellowship of the Ring (The Lord of the Ri...   \n",
       "7   059035342X  Harry Potter and the Sorcerer's Stone (Harry P...   \n",
       "8   0345339711     The Two Towers (The Lord of the Rings, Part 2)   \n",
       "9   0446310786                              To Kill a Mockingbird   \n",
       "10  0385504209                                  The Da Vinci Code   \n",
       "11  0786868716                 The Five People You Meet in Heaven   \n",
       "12  0316769487                             The Catcher in the Rye   \n",
       "13  0316666343                          The Lovely Bones: A Novel   \n",
       "14  0451524934                                               1984   \n",
       "15  0060959037                           Prodigal Summer: A Novel   \n",
       "16  0380789019                                         Neverwhere   \n",
       "17  0142001740                            The Secret Life of Bees   \n",
       "18  0060392452  Stupid White Men ...and Other Sorry Excuses fo...   \n",
       "19  0385484518  Tuesdays with Morrie: An Old Man, a Young Man,...   \n",
       "20  0312195516                The Red Tent (Bestselling Backlist)   \n",
       "21  0671461494               The Hitchhiker's Guide to the Galaxy   \n",
       "22  0805063897   Nickel and Dimed: On (Not) Getting By in America   \n",
       "23  0385486804                                      Into the Wild   \n",
       "24  3257208626                                     Fahrenheit 451   \n",
       "25  0452282152                          Girl with a Pearl Earring   \n",
       "26  0440222915                                          Outlander   \n",
       "27  0446672211  Where the Heart Is (Oprah's Book Club (Paperba...   \n",
       "28  0449005615                     Seabiscuit: An American Legend   \n",
       "29  0151008116                                         Life of Pi   \n",
       "30  0060915544                                     The Bean Trees   \n",
       "31  1558743669  A Child Called \\It\\\": One Child's Courage to S...   \n",
       "32  0684874350                                     ANGELA'S ASHES   \n",
       "33  0743418174                                        Good in Bed   \n",
       "34  0060938455  Fast Food Nation: The Dark Side of the All-Ame...   \n",
       "35  0380789035                                      American Gods   \n",
       "36  0385505833                                 Skipping Christmas   \n",
       "37  0842329129  Left Behind: A Novel of the Earth's Last Days ...   \n",
       "38  037582345X    The Golden Compass (His Dark Materials, Book 1)   \n",
       "39  0671617028                                   The Color Purple   \n",
       "40  0312924585                               Silence of the Lambs   \n",
       "41  1573227331                                        About a Boy   \n",
       "42  0312265840                  Seven Up (A Stephanie Plum Novel)   \n",
       "43  0062502174  The Alchemist: A Fable About Following Your Dream   \n",
       "44  0312983867  Hard Eight : A Stephanie Plum Novel (A Stephan...   \n",
       "45  0316969443                       Suzanne's Diary for Nicholas   \n",
       "46  0399501487                                  Lord of the Flies   \n",
       "47  0345361792                            A Prayer for Owen Meany   \n",
       "48  0345313860   The Vampire Lestat (Vampire Chronicles, Book II)   \n",
       "49  0316284955       White Oleander : A Novel (Oprah's Book Club)   \n",
       "\n",
       "                    Author Publication_Year                      Publisher  \\\n",
       "0            J. K. Rowling             1999                     Scholastic   \n",
       "1            J. K. Rowling             2000                     Scholastic   \n",
       "2            J. K. Rowling             1998                     Scholastic   \n",
       "3            J. K. Rowling             2003                     Scholastic   \n",
       "4            J. K. Rowling             2000                     Scholastic   \n",
       "5           J.R.R. TOLKIEN             1986                        Del Rey   \n",
       "6           J.R.R. TOLKIEN             1986                        Del Rey   \n",
       "7            J. K. Rowling             1999         Arthur A. Levine Books   \n",
       "8           J.R.R. TOLKIEN             1986                        Del Rey   \n",
       "9               Harper Lee             1988     Little Brown &amp; Company   \n",
       "10               Dan Brown             2003                      Doubleday   \n",
       "11             Mitch Albom             2003                       Hyperion   \n",
       "12           J.D. Salinger             1991                  Little, Brown   \n",
       "13            Alice Sebold             2002                  Little, Brown   \n",
       "14           George Orwell             1990                    Signet Book   \n",
       "15      Barbara Kingsolver             2001                      Perennial   \n",
       "16             Neil Gaiman             1998                           Avon   \n",
       "17           Sue Monk Kidd             2003                  Penguin Books   \n",
       "18           Michael Moore             2002                    Regan Books   \n",
       "19             MITCH ALBOM             1997                      Doubleday   \n",
       "20           Anita Diamant             1998                    Picador USA   \n",
       "21           Douglas Adams             1982                         Pocket   \n",
       "22      Barbara Ehrenreich             2002                      Owl Books   \n",
       "23            Jon Krakauer             1997                         Anchor   \n",
       "24            Ray Bradbury             1994                Distribooks Inc   \n",
       "25         Tracy Chevalier             2001                    Plume Books   \n",
       "26          DIANA GABALDON             1996                           Dell   \n",
       "27            Billie Letts             1998                   Warner Books   \n",
       "28       LAURA HILLENBRAND             2002               Ballantine Books   \n",
       "29             Yann Martel             2002                       Harcourt   \n",
       "30      Barbara Kingsolver             1989                      Perennial   \n",
       "31             Dave Pelzer             1995          Health Communications   \n",
       "32           Frank McCourt             1996                       Scribner   \n",
       "33         Jennifer Weiner             2002        Washington Square Press   \n",
       "34          Eric Schlosser             2002                      Perennial   \n",
       "35             Neil Gaiman             2002                    HarperTorch   \n",
       "36            JOHN GRISHAM             2001                      Doubleday   \n",
       "37              Tim Lahaye             1996       Tyndale House Publishers   \n",
       "38          PHILIP PULLMAN             2002  Knopf Books for Young Readers   \n",
       "39            Alice Walker             1985                   Pocket Books   \n",
       "40           Thomas Harris             1991             St. Martin's Press   \n",
       "41             Nick Hornby             1999                Riverhead Books   \n",
       "42         Janet Evanovich             2001             St. Martin's Press   \n",
       "43            Paulo Coelho             1993             HarperSanFrancisco   \n",
       "44         Janet Evanovich             2003        St. Martin's Paperbacks   \n",
       "45         James Patterson             2001                  Little, Brown   \n",
       "46  William Gerald Golding             1959                  Perigee Trade   \n",
       "47             John Irving             1990               Ballantine Books   \n",
       "48               ANNE RICE             1986               Ballantine Books   \n",
       "49             Janet Fitch             2000                 Back Bay Books   \n",
       "\n",
       "                                          Image-URL-L  Number_of_Ratings  \\\n",
       "0   https://images.amazon.com/images/P/0439136350....                428   \n",
       "1   https://images.amazon.com/images/P/0439139597....                387   \n",
       "2   https://images.amazon.com/images/P/0590353403....                278   \n",
       "3   https://images.amazon.com/images/P/043935806X....                347   \n",
       "4   https://images.amazon.com/images/P/0439064872....                556   \n",
       "5   https://images.amazon.com/images/P/0345339681....                281   \n",
       "6   https://images.amazon.com/images/P/0345339703....                368   \n",
       "7   https://images.amazon.com/images/P/059035342X....                575   \n",
       "8   https://images.amazon.com/images/P/0345339711....                260   \n",
       "9   https://images.amazon.com/images/P/0446310786....                510   \n",
       "10  https://images.amazon.com/images/P/0385504209....                898   \n",
       "11  https://images.amazon.com/images/P/0786868716....                430   \n",
       "12  https://images.amazon.com/images/P/0316769487....                449   \n",
       "13  https://images.amazon.com/images/P/0316666343....               1295   \n",
       "14  https://images.amazon.com/images/P/0451524934....                284   \n",
       "15  https://images.amazon.com/images/P/0060959037....                253   \n",
       "16  https://images.amazon.com/images/P/0380789019....                265   \n",
       "17  https://images.amazon.com/images/P/0142001740....                774   \n",
       "18  https://images.amazon.com/images/P/0060392452....                283   \n",
       "19  https://images.amazon.com/images/P/0385484518....                493   \n",
       "20  https://images.amazon.com/images/P/0312195516....                723   \n",
       "21  https://images.amazon.com/images/P/0671461494....                268   \n",
       "22  https://images.amazon.com/images/P/0805063897....                335   \n",
       "23  https://images.amazon.com/images/P/0385486804....                252   \n",
       "24  https://images.amazon.com/images/P/3257208626....                409   \n",
       "25  https://images.amazon.com/images/P/0452282152....                526   \n",
       "26  https://images.amazon.com/images/P/0440222915....                283   \n",
       "27  https://images.amazon.com/images/P/0446672211....                585   \n",
       "28  https://images.amazon.com/images/P/0449005615....                275   \n",
       "29  https://images.amazon.com/images/P/0151008116....                664   \n",
       "30  https://images.amazon.com/images/P/0060915544....                389   \n",
       "31  https://images.amazon.com/images/P/1558743669....                265   \n",
       "32  https://images.amazon.com/images/P/0684874350....                279   \n",
       "33  https://images.amazon.com/images/P/0743418174....                490   \n",
       "34  https://images.amazon.com/images/P/0060938455....                321   \n",
       "35  https://images.amazon.com/images/P/0380789035....                302   \n",
       "36  https://images.amazon.com/images/P/0385505833....                322   \n",
       "37  https://images.amazon.com/images/P/0842329129....                318   \n",
       "38  https://images.amazon.com/images/P/037582345X....                336   \n",
       "39  https://images.amazon.com/images/P/0671617028....                314   \n",
       "40  https://images.amazon.com/images/P/0312924585....                256   \n",
       "41  https://images.amazon.com/images/P/1573227331....                262   \n",
       "42  https://images.amazon.com/images/P/0312265840....                278   \n",
       "43  https://images.amazon.com/images/P/0062502174....                266   \n",
       "44  https://images.amazon.com/images/P/0312983867....                269   \n",
       "45  https://images.amazon.com/images/P/0316969443....                457   \n",
       "46  https://images.amazon.com/images/P/0399501487....                259   \n",
       "47  https://images.amazon.com/images/P/0345361792....                413   \n",
       "48  https://images.amazon.com/images/P/0345313860....                301   \n",
       "49  https://images.amazon.com/images/P/0316284955....                356   \n",
       "\n",
       "    Average_Rating  \n",
       "0         5.852804  \n",
       "1         5.824289  \n",
       "2         5.737410  \n",
       "3         5.501441  \n",
       "4         5.183453  \n",
       "5         5.007117  \n",
       "6         4.948370  \n",
       "7         4.895652  \n",
       "8         4.880769  \n",
       "9         4.700000  \n",
       "10        4.642539  \n",
       "11        4.551163  \n",
       "12        4.545657  \n",
       "13        4.468726  \n",
       "14        4.454225  \n",
       "15        4.450593  \n",
       "16        4.449057  \n",
       "17        4.447028  \n",
       "18        4.356890  \n",
       "19        4.354970  \n",
       "20        4.334716  \n",
       "21        4.328358  \n",
       "22        4.289552  \n",
       "23        4.273810  \n",
       "24        4.264059  \n",
       "25        4.218631  \n",
       "26        4.173145  \n",
       "27        4.105983  \n",
       "28        4.098182  \n",
       "29        4.088855  \n",
       "30        4.087404  \n",
       "31        4.086792  \n",
       "32        4.075269  \n",
       "33        4.055102  \n",
       "34        4.037383  \n",
       "35        4.006623  \n",
       "36        4.006211  \n",
       "37        4.003145  \n",
       "38        4.000000  \n",
       "39        3.964968  \n",
       "40        3.960938  \n",
       "41        3.900763  \n",
       "42        3.888489  \n",
       "43        3.875940  \n",
       "44        3.825279  \n",
       "45        3.820569  \n",
       "46        3.818533  \n",
       "47        3.796610  \n",
       "48        3.777409  \n",
       "49        3.772472  "
      ]
     },
     "execution_count": 33,
     "metadata": {},
     "output_type": "execute_result"
    }
   ],
   "source": [
    "Popularity_Final"
   ]
  },
  {
   "cell_type": "markdown",
   "id": "0dd29a96",
   "metadata": {
    "papermill": {
     "duration": 0.01625,
     "end_time": "2024-09-10T11:09:49.879655",
     "exception": false,
     "start_time": "2024-09-10T11:09:49.863405",
     "status": "completed"
    },
    "tags": []
   },
   "source": [
    "# Collaborative Filtering Recommendation system"
   ]
  },
  {
   "cell_type": "markdown",
   "id": "c12a0034",
   "metadata": {
    "papermill": {
     "duration": 0.016254,
     "end_time": "2024-09-10T11:09:49.912476",
     "exception": false,
     "start_time": "2024-09-10T11:09:49.896222",
     "status": "completed"
    },
    "tags": []
   },
   "source": [
    "## Creating Dataset for ML algorithm"
   ]
  },
  {
   "cell_type": "markdown",
   "id": "183e3aac",
   "metadata": {
    "papermill": {
     "duration": 0.016374,
     "end_time": "2024-09-10T11:09:49.946154",
     "exception": false,
     "start_time": "2024-09-10T11:09:49.929780",
     "status": "completed"
    },
    "tags": []
   },
   "source": [
    "* aGoodUser is a user who gave ratings to atleast 200 different books.\n",
    "* aGoodBook is a book which received ratings from at least 50 unique users."
   ]
  },
  {
   "cell_type": "code",
   "execution_count": 34,
   "id": "c76718eb",
   "metadata": {
    "execution": {
     "iopub.execute_input": "2024-09-10T11:09:49.981631Z",
     "iopub.status.busy": "2024-09-10T11:09:49.980753Z",
     "iopub.status.idle": "2024-09-10T11:09:49.985434Z",
     "shell.execute_reply": "2024-09-10T11:09:49.984418Z"
    },
    "papermill": {
     "duration": 0.024629,
     "end_time": "2024-09-10T11:09:49.987483",
     "exception": false,
     "start_time": "2024-09-10T11:09:49.962854",
     "status": "completed"
    },
    "tags": []
   },
   "outputs": [],
   "source": [
    "aGoodBook = 50\n",
    "aGoodUser = 200"
   ]
  },
  {
   "cell_type": "code",
   "execution_count": 35,
   "id": "cd58421e",
   "metadata": {
    "execution": {
     "iopub.execute_input": "2024-09-10T11:09:50.022375Z",
     "iopub.status.busy": "2024-09-10T11:09:50.021956Z",
     "iopub.status.idle": "2024-09-10T11:09:50.152624Z",
     "shell.execute_reply": "2024-09-10T11:09:50.151511Z"
    },
    "papermill": {
     "duration": 0.150667,
     "end_time": "2024-09-10T11:09:50.154820",
     "exception": false,
     "start_time": "2024-09-10T11:09:50.004153",
     "status": "completed"
    },
    "tags": []
   },
   "outputs": [
    {
     "data": {
      "text/plain": [
       "(474007, 10)"
      ]
     },
     "execution_count": 35,
     "metadata": {},
     "output_type": "execute_result"
    }
   ],
   "source": [
    "x = ratings_with_books.groupby('User_ID')['Rating'].count()>aGoodUser\n",
    "good_users_index = x[x].index\n",
    "filtered_ratings = ratings_with_books[ratings_with_books['User_ID'].isin(good_users_index)]\n",
    "filtered_ratings.shape"
   ]
  },
  {
   "cell_type": "code",
   "execution_count": 36,
   "id": "f1e4afeb",
   "metadata": {
    "execution": {
     "iopub.execute_input": "2024-09-10T11:09:50.190293Z",
     "iopub.status.busy": "2024-09-10T11:09:50.189890Z",
     "iopub.status.idle": "2024-09-10T11:09:50.702869Z",
     "shell.execute_reply": "2024-09-10T11:09:50.701807Z"
    },
    "papermill": {
     "duration": 0.53363,
     "end_time": "2024-09-10T11:09:50.705191",
     "exception": false,
     "start_time": "2024-09-10T11:09:50.171561",
     "status": "completed"
    },
    "tags": []
   },
   "outputs": [
    {
     "data": {
      "text/plain": [
       "(57236, 10)"
      ]
     },
     "execution_count": 36,
     "metadata": {},
     "output_type": "execute_result"
    }
   ],
   "source": [
    "y = filtered_ratings.groupby('Title')['Rating'].count()>aGoodBook\n",
    "good_book_index = y[y].index\n",
    "filtered_ratings_books = filtered_ratings[filtered_ratings['Title'].isin(good_book_index)]\n",
    "filtered_ratings_books.shape"
   ]
  },
  {
   "cell_type": "code",
   "execution_count": 37,
   "id": "78086fad",
   "metadata": {
    "execution": {
     "iopub.execute_input": "2024-09-10T11:09:50.741313Z",
     "iopub.status.busy": "2024-09-10T11:09:50.740490Z",
     "iopub.status.idle": "2024-09-10T11:09:50.785917Z",
     "shell.execute_reply": "2024-09-10T11:09:50.784802Z"
    },
    "papermill": {
     "duration": 0.066146,
     "end_time": "2024-09-10T11:09:50.788400",
     "exception": false,
     "start_time": "2024-09-10T11:09:50.722254",
     "status": "completed"
    },
    "tags": []
   },
   "outputs": [],
   "source": [
    "pt = filtered_ratings_books.pivot_table(index='Title',columns='User_ID',values='Rating')"
   ]
  },
  {
   "cell_type": "code",
   "execution_count": 38,
   "id": "c111d8e1",
   "metadata": {
    "execution": {
     "iopub.execute_input": "2024-09-10T11:09:50.824915Z",
     "iopub.status.busy": "2024-09-10T11:09:50.824190Z",
     "iopub.status.idle": "2024-09-10T11:09:50.835058Z",
     "shell.execute_reply": "2024-09-10T11:09:50.833961Z"
    },
    "papermill": {
     "duration": 0.031957,
     "end_time": "2024-09-10T11:09:50.837476",
     "exception": false,
     "start_time": "2024-09-10T11:09:50.805519",
     "status": "completed"
    },
    "tags": []
   },
   "outputs": [],
   "source": [
    "pt.fillna(0,inplace=True)"
   ]
  },
  {
   "cell_type": "code",
   "execution_count": 39,
   "id": "490a9300",
   "metadata": {
    "execution": {
     "iopub.execute_input": "2024-09-10T11:09:50.873542Z",
     "iopub.status.busy": "2024-09-10T11:09:50.872809Z",
     "iopub.status.idle": "2024-09-10T11:09:50.879532Z",
     "shell.execute_reply": "2024-09-10T11:09:50.878542Z"
    },
    "papermill": {
     "duration": 0.026841,
     "end_time": "2024-09-10T11:09:50.881483",
     "exception": false,
     "start_time": "2024-09-10T11:09:50.854642",
     "status": "completed"
    },
    "tags": []
   },
   "outputs": [
    {
     "data": {
      "text/plain": [
       "(679, 810)"
      ]
     },
     "execution_count": 39,
     "metadata": {},
     "output_type": "execute_result"
    }
   ],
   "source": [
    "pt.shape"
   ]
  },
  {
   "cell_type": "code",
   "execution_count": 40,
   "id": "88290837",
   "metadata": {
    "execution": {
     "iopub.execute_input": "2024-09-10T11:09:50.917265Z",
     "iopub.status.busy": "2024-09-10T11:09:50.916857Z",
     "iopub.status.idle": "2024-09-10T11:09:50.946524Z",
     "shell.execute_reply": "2024-09-10T11:09:50.945170Z"
    },
    "papermill": {
     "duration": 0.050219,
     "end_time": "2024-09-10T11:09:50.948788",
     "exception": false,
     "start_time": "2024-09-10T11:09:50.898569",
     "status": "completed"
    },
    "tags": []
   },
   "outputs": [
    {
     "data": {
      "text/html": [
       "<div>\n",
       "<style scoped>\n",
       "    .dataframe tbody tr th:only-of-type {\n",
       "        vertical-align: middle;\n",
       "    }\n",
       "\n",
       "    .dataframe tbody tr th {\n",
       "        vertical-align: top;\n",
       "    }\n",
       "\n",
       "    .dataframe thead th {\n",
       "        text-align: right;\n",
       "    }\n",
       "</style>\n",
       "<table border=\"1\" class=\"dataframe\">\n",
       "  <thead>\n",
       "    <tr style=\"text-align: right;\">\n",
       "      <th>User_ID</th>\n",
       "      <th>254</th>\n",
       "      <th>2276</th>\n",
       "      <th>2766</th>\n",
       "      <th>2977</th>\n",
       "      <th>3363</th>\n",
       "      <th>4017</th>\n",
       "      <th>4385</th>\n",
       "      <th>6251</th>\n",
       "      <th>6323</th>\n",
       "      <th>6543</th>\n",
       "      <th>...</th>\n",
       "      <th>271705</th>\n",
       "      <th>273979</th>\n",
       "      <th>274004</th>\n",
       "      <th>274061</th>\n",
       "      <th>274301</th>\n",
       "      <th>274308</th>\n",
       "      <th>275970</th>\n",
       "      <th>277427</th>\n",
       "      <th>277639</th>\n",
       "      <th>278418</th>\n",
       "    </tr>\n",
       "    <tr>\n",
       "      <th>Title</th>\n",
       "      <th></th>\n",
       "      <th></th>\n",
       "      <th></th>\n",
       "      <th></th>\n",
       "      <th></th>\n",
       "      <th></th>\n",
       "      <th></th>\n",
       "      <th></th>\n",
       "      <th></th>\n",
       "      <th></th>\n",
       "      <th></th>\n",
       "      <th></th>\n",
       "      <th></th>\n",
       "      <th></th>\n",
       "      <th></th>\n",
       "      <th></th>\n",
       "      <th></th>\n",
       "      <th></th>\n",
       "      <th></th>\n",
       "      <th></th>\n",
       "      <th></th>\n",
       "    </tr>\n",
       "  </thead>\n",
       "  <tbody>\n",
       "    <tr>\n",
       "      <th>1984</th>\n",
       "      <td>9.0</td>\n",
       "      <td>0.0</td>\n",
       "      <td>0.0</td>\n",
       "      <td>0.0</td>\n",
       "      <td>0.0</td>\n",
       "      <td>0.0</td>\n",
       "      <td>0.0</td>\n",
       "      <td>0.0</td>\n",
       "      <td>0.0</td>\n",
       "      <td>0.0</td>\n",
       "      <td>...</td>\n",
       "      <td>10.0</td>\n",
       "      <td>0.0</td>\n",
       "      <td>0.0</td>\n",
       "      <td>0.0</td>\n",
       "      <td>0.0</td>\n",
       "      <td>0.0</td>\n",
       "      <td>0.0</td>\n",
       "      <td>0.0</td>\n",
       "      <td>0.0</td>\n",
       "      <td>0.0</td>\n",
       "    </tr>\n",
       "    <tr>\n",
       "      <th>1st to Die: A Novel</th>\n",
       "      <td>0.0</td>\n",
       "      <td>0.0</td>\n",
       "      <td>0.0</td>\n",
       "      <td>0.0</td>\n",
       "      <td>0.0</td>\n",
       "      <td>0.0</td>\n",
       "      <td>0.0</td>\n",
       "      <td>0.0</td>\n",
       "      <td>0.0</td>\n",
       "      <td>9.0</td>\n",
       "      <td>...</td>\n",
       "      <td>0.0</td>\n",
       "      <td>0.0</td>\n",
       "      <td>0.0</td>\n",
       "      <td>0.0</td>\n",
       "      <td>0.0</td>\n",
       "      <td>0.0</td>\n",
       "      <td>0.0</td>\n",
       "      <td>0.0</td>\n",
       "      <td>0.0</td>\n",
       "      <td>0.0</td>\n",
       "    </tr>\n",
       "    <tr>\n",
       "      <th>2nd Chance</th>\n",
       "      <td>0.0</td>\n",
       "      <td>10.0</td>\n",
       "      <td>0.0</td>\n",
       "      <td>0.0</td>\n",
       "      <td>0.0</td>\n",
       "      <td>0.0</td>\n",
       "      <td>0.0</td>\n",
       "      <td>0.0</td>\n",
       "      <td>0.0</td>\n",
       "      <td>0.0</td>\n",
       "      <td>...</td>\n",
       "      <td>0.0</td>\n",
       "      <td>0.0</td>\n",
       "      <td>0.0</td>\n",
       "      <td>0.0</td>\n",
       "      <td>0.0</td>\n",
       "      <td>0.0</td>\n",
       "      <td>0.0</td>\n",
       "      <td>0.0</td>\n",
       "      <td>0.0</td>\n",
       "      <td>0.0</td>\n",
       "    </tr>\n",
       "    <tr>\n",
       "      <th>4 Blondes</th>\n",
       "      <td>0.0</td>\n",
       "      <td>0.0</td>\n",
       "      <td>0.0</td>\n",
       "      <td>0.0</td>\n",
       "      <td>0.0</td>\n",
       "      <td>0.0</td>\n",
       "      <td>0.0</td>\n",
       "      <td>0.0</td>\n",
       "      <td>0.0</td>\n",
       "      <td>0.0</td>\n",
       "      <td>...</td>\n",
       "      <td>0.0</td>\n",
       "      <td>0.0</td>\n",
       "      <td>0.0</td>\n",
       "      <td>0.0</td>\n",
       "      <td>0.0</td>\n",
       "      <td>0.0</td>\n",
       "      <td>0.0</td>\n",
       "      <td>0.0</td>\n",
       "      <td>0.0</td>\n",
       "      <td>0.0</td>\n",
       "    </tr>\n",
       "    <tr>\n",
       "      <th>A Bend in the Road</th>\n",
       "      <td>0.0</td>\n",
       "      <td>0.0</td>\n",
       "      <td>7.0</td>\n",
       "      <td>0.0</td>\n",
       "      <td>0.0</td>\n",
       "      <td>0.0</td>\n",
       "      <td>0.0</td>\n",
       "      <td>0.0</td>\n",
       "      <td>0.0</td>\n",
       "      <td>0.0</td>\n",
       "      <td>...</td>\n",
       "      <td>0.0</td>\n",
       "      <td>0.0</td>\n",
       "      <td>0.0</td>\n",
       "      <td>0.0</td>\n",
       "      <td>0.0</td>\n",
       "      <td>0.0</td>\n",
       "      <td>0.0</td>\n",
       "      <td>0.0</td>\n",
       "      <td>0.0</td>\n",
       "      <td>0.0</td>\n",
       "    </tr>\n",
       "  </tbody>\n",
       "</table>\n",
       "<p>5 rows × 810 columns</p>\n",
       "</div>"
      ],
      "text/plain": [
       "User_ID              254     2276    2766    2977    3363    4017    4385    \\\n",
       "Title                                                                         \n",
       "1984                    9.0     0.0     0.0     0.0     0.0     0.0     0.0   \n",
       "1st to Die: A Novel     0.0     0.0     0.0     0.0     0.0     0.0     0.0   \n",
       "2nd Chance              0.0    10.0     0.0     0.0     0.0     0.0     0.0   \n",
       "4 Blondes               0.0     0.0     0.0     0.0     0.0     0.0     0.0   \n",
       "A Bend in the Road      0.0     0.0     7.0     0.0     0.0     0.0     0.0   \n",
       "\n",
       "User_ID              6251    6323    6543    ...  271705  273979  274004  \\\n",
       "Title                                        ...                           \n",
       "1984                    0.0     0.0     0.0  ...    10.0     0.0     0.0   \n",
       "1st to Die: A Novel     0.0     0.0     9.0  ...     0.0     0.0     0.0   \n",
       "2nd Chance              0.0     0.0     0.0  ...     0.0     0.0     0.0   \n",
       "4 Blondes               0.0     0.0     0.0  ...     0.0     0.0     0.0   \n",
       "A Bend in the Road      0.0     0.0     0.0  ...     0.0     0.0     0.0   \n",
       "\n",
       "User_ID              274061  274301  274308  275970  277427  277639  278418  \n",
       "Title                                                                        \n",
       "1984                    0.0     0.0     0.0     0.0     0.0     0.0     0.0  \n",
       "1st to Die: A Novel     0.0     0.0     0.0     0.0     0.0     0.0     0.0  \n",
       "2nd Chance              0.0     0.0     0.0     0.0     0.0     0.0     0.0  \n",
       "4 Blondes               0.0     0.0     0.0     0.0     0.0     0.0     0.0  \n",
       "A Bend in the Road      0.0     0.0     0.0     0.0     0.0     0.0     0.0  \n",
       "\n",
       "[5 rows x 810 columns]"
      ]
     },
     "execution_count": 40,
     "metadata": {},
     "output_type": "execute_result"
    }
   ],
   "source": [
    "pt.head()"
   ]
  },
  {
   "cell_type": "code",
   "execution_count": 41,
   "id": "4d279aa4",
   "metadata": {
    "execution": {
     "iopub.execute_input": "2024-09-10T11:09:50.985725Z",
     "iopub.status.busy": "2024-09-10T11:09:50.984962Z",
     "iopub.status.idle": "2024-09-10T11:09:50.990411Z",
     "shell.execute_reply": "2024-09-10T11:09:50.989409Z"
    },
    "papermill": {
     "duration": 0.026267,
     "end_time": "2024-09-10T11:09:50.992689",
     "exception": false,
     "start_time": "2024-09-10T11:09:50.966422",
     "status": "completed"
    },
    "tags": []
   },
   "outputs": [],
   "source": [
    "final_dataset = pt.copy()"
   ]
  },
  {
   "cell_type": "code",
   "execution_count": 42,
   "id": "3019a42f",
   "metadata": {
    "execution": {
     "iopub.execute_input": "2024-09-10T11:09:51.029650Z",
     "iopub.status.busy": "2024-09-10T11:09:51.028686Z",
     "iopub.status.idle": "2024-09-10T11:09:51.043727Z",
     "shell.execute_reply": "2024-09-10T11:09:51.042682Z"
    },
    "papermill": {
     "duration": 0.03605,
     "end_time": "2024-09-10T11:09:51.046186",
     "exception": false,
     "start_time": "2024-09-10T11:09:51.010136",
     "status": "completed"
    },
    "tags": []
   },
   "outputs": [],
   "source": [
    "final_dataset_sparse = csr_matrix(final_dataset)"
   ]
  },
  {
   "cell_type": "markdown",
   "id": "eeff84b6",
   "metadata": {
    "papermill": {
     "duration": 0.017072,
     "end_time": "2024-09-10T11:09:51.080871",
     "exception": false,
     "start_time": "2024-09-10T11:09:51.063799",
     "status": "completed"
    },
    "tags": []
   },
   "source": [
    "## Algorithm Development"
   ]
  },
  {
   "cell_type": "markdown",
   "id": "13ce01ca",
   "metadata": {
    "papermill": {
     "duration": 0.017141,
     "end_time": "2024-09-10T11:09:51.115372",
     "exception": false,
     "start_time": "2024-09-10T11:09:51.098231",
     "status": "completed"
    },
    "tags": []
   },
   "source": [
    "### Nearest Neighbors"
   ]
  },
  {
   "cell_type": "code",
   "execution_count": 43,
   "id": "0b60dc28",
   "metadata": {
    "execution": {
     "iopub.execute_input": "2024-09-10T11:09:51.152232Z",
     "iopub.status.busy": "2024-09-10T11:09:51.151393Z",
     "iopub.status.idle": "2024-09-10T11:09:51.161814Z",
     "shell.execute_reply": "2024-09-10T11:09:51.160790Z"
    },
    "papermill": {
     "duration": 0.031301,
     "end_time": "2024-09-10T11:09:51.164054",
     "exception": false,
     "start_time": "2024-09-10T11:09:51.132753",
     "status": "completed"
    },
    "tags": []
   },
   "outputs": [
    {
     "data": {
      "text/html": [
       "<style>#sk-container-id-1 {color: black;background-color: white;}#sk-container-id-1 pre{padding: 0;}#sk-container-id-1 div.sk-toggleable {background-color: white;}#sk-container-id-1 label.sk-toggleable__label {cursor: pointer;display: block;width: 100%;margin-bottom: 0;padding: 0.3em;box-sizing: border-box;text-align: center;}#sk-container-id-1 label.sk-toggleable__label-arrow:before {content: \"▸\";float: left;margin-right: 0.25em;color: #696969;}#sk-container-id-1 label.sk-toggleable__label-arrow:hover:before {color: black;}#sk-container-id-1 div.sk-estimator:hover label.sk-toggleable__label-arrow:before {color: black;}#sk-container-id-1 div.sk-toggleable__content {max-height: 0;max-width: 0;overflow: hidden;text-align: left;background-color: #f0f8ff;}#sk-container-id-1 div.sk-toggleable__content pre {margin: 0.2em;color: black;border-radius: 0.25em;background-color: #f0f8ff;}#sk-container-id-1 input.sk-toggleable__control:checked~div.sk-toggleable__content {max-height: 200px;max-width: 100%;overflow: auto;}#sk-container-id-1 input.sk-toggleable__control:checked~label.sk-toggleable__label-arrow:before {content: \"▾\";}#sk-container-id-1 div.sk-estimator input.sk-toggleable__control:checked~label.sk-toggleable__label {background-color: #d4ebff;}#sk-container-id-1 div.sk-label input.sk-toggleable__control:checked~label.sk-toggleable__label {background-color: #d4ebff;}#sk-container-id-1 input.sk-hidden--visually {border: 0;clip: rect(1px 1px 1px 1px);clip: rect(1px, 1px, 1px, 1px);height: 1px;margin: -1px;overflow: hidden;padding: 0;position: absolute;width: 1px;}#sk-container-id-1 div.sk-estimator {font-family: monospace;background-color: #f0f8ff;border: 1px dotted black;border-radius: 0.25em;box-sizing: border-box;margin-bottom: 0.5em;}#sk-container-id-1 div.sk-estimator:hover {background-color: #d4ebff;}#sk-container-id-1 div.sk-parallel-item::after {content: \"\";width: 100%;border-bottom: 1px solid gray;flex-grow: 1;}#sk-container-id-1 div.sk-label:hover label.sk-toggleable__label {background-color: #d4ebff;}#sk-container-id-1 div.sk-serial::before {content: \"\";position: absolute;border-left: 1px solid gray;box-sizing: border-box;top: 0;bottom: 0;left: 50%;z-index: 0;}#sk-container-id-1 div.sk-serial {display: flex;flex-direction: column;align-items: center;background-color: white;padding-right: 0.2em;padding-left: 0.2em;position: relative;}#sk-container-id-1 div.sk-item {position: relative;z-index: 1;}#sk-container-id-1 div.sk-parallel {display: flex;align-items: stretch;justify-content: center;background-color: white;position: relative;}#sk-container-id-1 div.sk-item::before, #sk-container-id-1 div.sk-parallel-item::before {content: \"\";position: absolute;border-left: 1px solid gray;box-sizing: border-box;top: 0;bottom: 0;left: 50%;z-index: -1;}#sk-container-id-1 div.sk-parallel-item {display: flex;flex-direction: column;z-index: 1;position: relative;background-color: white;}#sk-container-id-1 div.sk-parallel-item:first-child::after {align-self: flex-end;width: 50%;}#sk-container-id-1 div.sk-parallel-item:last-child::after {align-self: flex-start;width: 50%;}#sk-container-id-1 div.sk-parallel-item:only-child::after {width: 0;}#sk-container-id-1 div.sk-dashed-wrapped {border: 1px dashed gray;margin: 0 0.4em 0.5em 0.4em;box-sizing: border-box;padding-bottom: 0.4em;background-color: white;}#sk-container-id-1 div.sk-label label {font-family: monospace;font-weight: bold;display: inline-block;line-height: 1.2em;}#sk-container-id-1 div.sk-label-container {text-align: center;}#sk-container-id-1 div.sk-container {/* jupyter's `normalize.less` sets `[hidden] { display: none; }` but bootstrap.min.css set `[hidden] { display: none !important; }` so we also need the `!important` here to be able to override the default hidden behavior on the sphinx rendered scikit-learn.org. See: https://github.com/scikit-learn/scikit-learn/issues/21755 */display: inline-block !important;position: relative;}#sk-container-id-1 div.sk-text-repr-fallback {display: none;}</style><div id=\"sk-container-id-1\" class=\"sk-top-container\"><div class=\"sk-text-repr-fallback\"><pre>NearestNeighbors(algorithm=&#x27;brute&#x27;, metric=&#x27;cosine&#x27;)</pre><b>In a Jupyter environment, please rerun this cell to show the HTML representation or trust the notebook. <br />On GitHub, the HTML representation is unable to render, please try loading this page with nbviewer.org.</b></div><div class=\"sk-container\" hidden><div class=\"sk-item\"><div class=\"sk-estimator sk-toggleable\"><input class=\"sk-toggleable__control sk-hidden--visually\" id=\"sk-estimator-id-1\" type=\"checkbox\" checked><label for=\"sk-estimator-id-1\" class=\"sk-toggleable__label sk-toggleable__label-arrow\">NearestNeighbors</label><div class=\"sk-toggleable__content\"><pre>NearestNeighbors(algorithm=&#x27;brute&#x27;, metric=&#x27;cosine&#x27;)</pre></div></div></div></div></div>"
      ],
      "text/plain": [
       "NearestNeighbors(algorithm='brute', metric='cosine')"
      ]
     },
     "execution_count": 43,
     "metadata": {},
     "output_type": "execute_result"
    }
   ],
   "source": [
    "nn_model = NearestNeighbors(metric='cosine',algorithm='brute')\n",
    "nn_model.fit(final_dataset_sparse)"
   ]
  },
  {
   "cell_type": "markdown",
   "id": "7fe3c4dd",
   "metadata": {
    "papermill": {
     "duration": 0.017739,
     "end_time": "2024-09-10T11:09:51.200440",
     "exception": false,
     "start_time": "2024-09-10T11:09:51.182701",
     "status": "completed"
    },
    "tags": []
   },
   "source": [
    "### KMeans"
   ]
  },
  {
   "cell_type": "code",
   "execution_count": 44,
   "id": "f3cf64c8",
   "metadata": {
    "execution": {
     "iopub.execute_input": "2024-09-10T11:09:51.238486Z",
     "iopub.status.busy": "2024-09-10T11:09:51.238020Z",
     "iopub.status.idle": "2024-09-10T11:09:52.309965Z",
     "shell.execute_reply": "2024-09-10T11:09:52.308753Z"
    },
    "papermill": {
     "duration": 1.094412,
     "end_time": "2024-09-10T11:09:52.312872",
     "exception": false,
     "start_time": "2024-09-10T11:09:51.218460",
     "status": "completed"
    },
    "tags": []
   },
   "outputs": [
    {
     "data": {
      "text/plain": [
       "0.1173160456070885"
      ]
     },
     "execution_count": 44,
     "metadata": {},
     "output_type": "execute_result"
    }
   ],
   "source": [
    "kmeans_model = KMeans(n_clusters=3,init=\"k-means++\",random_state=12)\n",
    "km = kmeans_model.fit(final_dataset)\n",
    "km_pred = km.predict(final_dataset)\n",
    "\n",
    "silhouette_score(final_dataset,km_pred)"
   ]
  },
  {
   "cell_type": "markdown",
   "id": "1ec96aef",
   "metadata": {
    "papermill": {
     "duration": 0.029455,
     "end_time": "2024-09-10T11:09:52.372185",
     "exception": false,
     "start_time": "2024-09-10T11:09:52.342730",
     "status": "completed"
    },
    "tags": []
   },
   "source": [
    "### GMM"
   ]
  },
  {
   "cell_type": "code",
   "execution_count": 45,
   "id": "43f9c7d3",
   "metadata": {
    "execution": {
     "iopub.execute_input": "2024-09-10T11:09:52.426766Z",
     "iopub.status.busy": "2024-09-10T11:09:52.426385Z",
     "iopub.status.idle": "2024-09-10T11:09:53.666737Z",
     "shell.execute_reply": "2024-09-10T11:09:53.665565Z"
    },
    "papermill": {
     "duration": 1.267943,
     "end_time": "2024-09-10T11:09:53.670076",
     "exception": false,
     "start_time": "2024-09-10T11:09:52.402133",
     "status": "completed"
    },
    "tags": []
   },
   "outputs": [
    {
     "data": {
      "text/plain": [
       "0.1173160456070885"
      ]
     },
     "execution_count": 45,
     "metadata": {},
     "output_type": "execute_result"
    }
   ],
   "source": [
    "gm_model = GaussianMixture(n_components=3,random_state=12)\n",
    "gm = gm_model.fit(final_dataset)\n",
    "gm_pred = km.predict(final_dataset)\n",
    "\n",
    "silhouette_score(final_dataset,gm_pred)"
   ]
  },
  {
   "cell_type": "markdown",
   "id": "8f5295fc",
   "metadata": {
    "papermill": {
     "duration": 0.032116,
     "end_time": "2024-09-10T11:09:53.744919",
     "exception": false,
     "start_time": "2024-09-10T11:09:53.712803",
     "status": "completed"
    },
    "tags": []
   },
   "source": [
    "# Making Recommendation Function"
   ]
  },
  {
   "cell_type": "code",
   "execution_count": 46,
   "id": "6185b548",
   "metadata": {
    "execution": {
     "iopub.execute_input": "2024-09-10T11:09:53.793765Z",
     "iopub.status.busy": "2024-09-10T11:09:53.793358Z",
     "iopub.status.idle": "2024-09-10T11:09:53.799371Z",
     "shell.execute_reply": "2024-09-10T11:09:53.798248Z"
    },
    "papermill": {
     "duration": 0.028019,
     "end_time": "2024-09-10T11:09:53.801667",
     "exception": false,
     "start_time": "2024-09-10T11:09:53.773648",
     "status": "completed"
    },
    "tags": []
   },
   "outputs": [],
   "source": [
    "def recommend_nn(book_name):\n",
    "    dist , sugg = nn_model.kneighbors(final_dataset[final_dataset.index == book_name],n_neighbors=6)\n",
    "    print('Book Recommendation for',book_name,'are:')\n",
    "    for i in range(len(sugg[0])):\n",
    "        if i!=0:\n",
    "            print(i,final_dataset.index[sugg[0][i]])"
   ]
  },
  {
   "cell_type": "code",
   "execution_count": 47,
   "id": "ddb4b8dc",
   "metadata": {
    "execution": {
     "iopub.execute_input": "2024-09-10T11:09:53.839653Z",
     "iopub.status.busy": "2024-09-10T11:09:53.839225Z",
     "iopub.status.idle": "2024-09-10T11:09:53.863892Z",
     "shell.execute_reply": "2024-09-10T11:09:53.862596Z"
    },
    "papermill": {
     "duration": 0.046161,
     "end_time": "2024-09-10T11:09:53.866060",
     "exception": false,
     "start_time": "2024-09-10T11:09:53.819899",
     "status": "completed"
    },
    "tags": []
   },
   "outputs": [
    {
     "name": "stdout",
     "output_type": "stream",
     "text": [
      "Book Recommendation for Message in a Bottle are:\n",
      "1 Nights in Rodanthe\n",
      "2 The Mulberry Tree\n",
      "3 A Walk to Remember\n",
      "4 River's End\n",
      "5 Nightmares &amp; Dreamscapes\n"
     ]
    }
   ],
   "source": [
    "recommend_nn('Message in a Bottle')"
   ]
  },
  {
   "cell_type": "markdown",
   "id": "6026477a",
   "metadata": {
    "papermill": {
     "duration": 0.017718,
     "end_time": "2024-09-10T11:09:53.901893",
     "exception": false,
     "start_time": "2024-09-10T11:09:53.884175",
     "status": "completed"
    },
    "tags": []
   },
   "source": [
    "# Notes / Scope of Improvement / Future Work:"
   ]
  },
  {
   "cell_type": "markdown",
   "id": "354d9c05",
   "metadata": {
    "papermill": {
     "duration": 0.018738,
     "end_time": "2024-09-10T11:09:53.939433",
     "exception": false,
     "start_time": "2024-09-10T11:09:53.920695",
     "status": "completed"
    },
    "tags": []
   },
   "source": [
    "* Does Scaling Required?\n",
    "* Publication_Year data type\n",
    "* Model Evaluation\n",
    "* EDA\n",
    "* Model deployment"
   ]
  }
 ],
 "metadata": {
  "kaggle": {
   "accelerator": "none",
   "dataSources": [
    {
     "datasetId": 1004280,
     "sourceId": 7595263,
     "sourceType": "datasetVersion"
    }
   ],
   "isGpuEnabled": false,
   "isInternetEnabled": true,
   "language": "python",
   "sourceType": "notebook"
  },
  "kernelspec": {
   "display_name": "Python 3",
   "language": "python",
   "name": "python3"
  },
  "language_info": {
   "codemirror_mode": {
    "name": "ipython",
    "version": 3
   },
   "file_extension": ".py",
   "mimetype": "text/x-python",
   "name": "python",
   "nbconvert_exporter": "python",
   "pygments_lexer": "ipython3",
   "version": "3.10.14"
  },
  "papermill": {
   "default_parameters": {},
   "duration": 20.479921,
   "end_time": "2024-09-10T11:09:54.879951",
   "environment_variables": {},
   "exception": null,
   "input_path": "__notebook__.ipynb",
   "output_path": "__notebook__.ipynb",
   "parameters": {},
   "start_time": "2024-09-10T11:09:34.400030",
   "version": "2.6.0"
  }
 },
 "nbformat": 4,
 "nbformat_minor": 5
}
